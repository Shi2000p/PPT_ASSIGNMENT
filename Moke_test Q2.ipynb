{
 "cells": [
  {
   "cell_type": "markdown",
   "id": "124dd491-6bc4-4746-9a9b-603d7864ef73",
   "metadata": {},
   "source": [
    "# First Unique Character in a String"
   ]
  },
  {
   "cell_type": "markdown",
   "id": "8c7af751-71f9-4b14-ab9b-7a5ce7c23f76",
   "metadata": {},
   "source": [
    "## Given a string s, find the first non-repeating character in it and return its index. If it does not exist, return -1."
   ]
  },
  {
   "cell_type": "code",
   "execution_count": 5,
   "id": "e863e5ef-4303-4154-b48b-30e6baf11b3c",
   "metadata": {},
   "outputs": [],
   "source": [
    "def UniqChar(s):    \n",
    "    char_freq = {}   \n",
    "    for char in s:\n",
    "        char_freq[char] = char_freq.get(char, 0) + 1   \n",
    "    for i in range(len(s)):\n",
    "        if char_freq[s[i]] == 1:\n",
    "            return i  \n",
    "    return -1"
   ]
  },
  {
   "cell_type": "code",
   "execution_count": 6,
   "id": "191c7a65-2939-4aee-acbc-bbfd39f8781a",
   "metadata": {},
   "outputs": [
    {
     "name": "stdout",
     "output_type": "stream",
     "text": [
      "0\n"
     ]
    }
   ],
   "source": [
    "s = \"leetcode\"\n",
    "print(UniqChar(s))"
   ]
  },
  {
   "cell_type": "code",
   "execution_count": 7,
   "id": "c4914f00-0345-4022-8755-c42fd93ec3e2",
   "metadata": {},
   "outputs": [
    {
     "name": "stdout",
     "output_type": "stream",
     "text": [
      "2\n"
     ]
    }
   ],
   "source": [
    "s = \"loveleetcode\"\n",
    "print(UniqChar(s))"
   ]
  },
  {
   "cell_type": "code",
   "execution_count": 8,
   "id": "7587a743-1167-4f52-ae32-e39d8e9d7129",
   "metadata": {},
   "outputs": [
    {
     "name": "stdout",
     "output_type": "stream",
     "text": [
      "-1\n"
     ]
    }
   ],
   "source": [
    "s = \"aabb\"\n",
    "print(UniqChar(s))"
   ]
  },
  {
   "cell_type": "code",
   "execution_count": null,
   "id": "f30b015a-ce38-47ae-a34a-136b9f10e513",
   "metadata": {},
   "outputs": [],
   "source": []
  }
 ],
 "metadata": {
  "kernelspec": {
   "display_name": "Python 3 (ipykernel)",
   "language": "python",
   "name": "python3"
  },
  "language_info": {
   "codemirror_mode": {
    "name": "ipython",
    "version": 3
   },
   "file_extension": ".py",
   "mimetype": "text/x-python",
   "name": "python",
   "nbconvert_exporter": "python",
   "pygments_lexer": "ipython3",
   "version": "3.10.8"
  }
 },
 "nbformat": 4,
 "nbformat_minor": 5
}
