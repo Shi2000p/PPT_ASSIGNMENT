{
 "cells": [
  {
   "cell_type": "markdown",
   "id": "a1e87f4a-0f82-4229-b8c5-ae58ede7ee31",
   "metadata": {},
   "source": [
    "Q1-A permutation perm of n + 1 integers of all the integers in the range [0, n] can be represented as a string s of length n where:\n",
    "\n",
    "- s[i] == 'I' if perm[i] < perm[i + 1], and\n",
    "- s[i] == 'D' if perm[i] > perm[i + 1].\n",
    "\n",
    "Given a string s, reconstruct the permutation perm and return it. If there are multiple valid permutations perm, return **any of them**."
   ]
  },
  {
   "cell_type": "code",
   "execution_count": 1,
   "id": "8d27a12a-1f8c-457b-870e-1b957a8f8135",
   "metadata": {},
   "outputs": [],
   "source": [
    "def find_permutation(s):\n",
    "    n = len(s)\n",
    "    perm = []\n",
    "    min_val = 0\n",
    "    max_val = n\n",
    "    for ch in s:\n",
    "        if ch == 'I':\n",
    "            perm.append(min_val)\n",
    "            min_val += 1\n",
    "        elif ch == 'D':\n",
    "            perm.append(max_val)\n",
    "            max_val -= 1\n",
    "    perm.append(min_val)\n",
    "    return perm\n"
   ]
  },
  {
   "cell_type": "code",
   "execution_count": 2,
   "id": "e49c58cd-b4d9-4c6c-b3e2-a67a41ee9a93",
   "metadata": {},
   "outputs": [],
   "source": [
    "s = \"IDID\""
   ]
  },
  {
   "cell_type": "code",
   "execution_count": 3,
   "id": "4cc32ff1-190c-40d1-80e2-9fd10c0c7bff",
   "metadata": {},
   "outputs": [
    {
     "data": {
      "text/plain": [
       "[0, 4, 1, 3, 2]"
      ]
     },
     "execution_count": 3,
     "metadata": {},
     "output_type": "execute_result"
    }
   ],
   "source": [
    "find_permutation(s)"
   ]
  },
  {
   "cell_type": "markdown",
   "id": "f46f5f5b-e05e-475a-a24e-5f54391e7313",
   "metadata": {},
   "source": [
    "Question 2\n",
    "\n",
    "You are given an m x n integer matrix matrix with the following two properties:\n",
    "\n",
    "- Each row is sorted in non-decreasing order.\n",
    "- The first integer of each row is greater than the last integer of the previous row.\n",
    "\n",
    "Given an integer target, return true *if* target *is in* matrix *or* false *otherwise*.\n",
    "\n",
    "You must write a solution in O(log(m * n)) time complexity.\n",
    "\n"
   ]
  },
  {
   "cell_type": "code",
   "execution_count": 4,
   "id": "c147d2ff-a5f6-4d01-b65b-d22e67038121",
   "metadata": {},
   "outputs": [],
   "source": [
    "def searchMatrix(matrix, target):\n",
    "    m, n = len(matrix), len(matrix[0])\n",
    "    left, right = 0, m * n - 1\n",
    "    while left <= right:\n",
    "        mid = (left + right) // 2\n",
    "        row = mid // n\n",
    "        col = mid % n\n",
    "        if matrix[row][col] == target:\n",
    "            return True\n",
    "        elif matrix[row][col] < target:\n",
    "            left = mid + 1\n",
    "        else:\n",
    "            right = mid - 1\n",
    "    return False\n"
   ]
  },
  {
   "cell_type": "code",
   "execution_count": 5,
   "id": "96faa92d-4654-4260-a611-9f60be7ca276",
   "metadata": {},
   "outputs": [],
   "source": [
    "matrix = [[1,3,5,7],[10,11,16,20],[23,30,34,60]]\n",
    "target = 3"
   ]
  },
  {
   "cell_type": "code",
   "execution_count": 6,
   "id": "b1b67e58-34cd-442c-af41-338ecabcbbe1",
   "metadata": {},
   "outputs": [
    {
     "data": {
      "text/plain": [
       "True"
      ]
     },
     "execution_count": 6,
     "metadata": {},
     "output_type": "execute_result"
    }
   ],
   "source": [
    "searchMatrix(matrix,target)"
   ]
  },
  {
   "cell_type": "markdown",
   "id": "aacbbcf5-d212-43cf-9543-5e20ff16547d",
   "metadata": {},
   "source": [
    "Question 3\n",
    "\n",
    "Given an array of integers arr, return *true if and only if it is a valid mountain array*.\n",
    "\n",
    "Recall that arr is a mountain array if and only if:\n",
    "\n",
    "- arr.length >= 3\n",
    "- There exists some i with 0 < i < arr.length - 1 such that:\n",
    "    - arr[0] < arr[1] < ... < arr[i - 1] < arr[i]\n",
    "    - arr[i] > arr[i + 1] > ... > arr[arr.length - 1]\n"
   ]
  },
  {
   "cell_type": "code",
   "execution_count": 8,
   "id": "f2dec404-a0c0-4e8a-8b67-987ec1d01af7",
   "metadata": {},
   "outputs": [],
   "source": [
    "def validMountainArray(arr):\n",
    "    if len(arr) < 3:\n",
    "        return False\n",
    "\n",
    "    i = 0\n",
    "    while i + 1 < len(arr) and arr[i] < arr[i + 1]:\n",
    "        i += 1\n",
    "\n",
    "    if i == 0 or i == len(arr) - 1:\n",
    "        return False\n",
    "\n",
    "    while i + 1 < len(arr) and arr[i] > arr[i + 1]:\n",
    "        i += 1\n",
    "\n",
    "    return i == len(arr) - 1\n"
   ]
  },
  {
   "cell_type": "code",
   "execution_count": 9,
   "id": "b2f24aed-9104-42b4-b817-252f2c69b367",
   "metadata": {},
   "outputs": [],
   "source": [
    "arr = [2,1]"
   ]
  },
  {
   "cell_type": "code",
   "execution_count": 10,
   "id": "1f25cc9d-cfef-45e8-8b07-6aab93e344a8",
   "metadata": {},
   "outputs": [
    {
     "data": {
      "text/plain": [
       "False"
      ]
     },
     "execution_count": 10,
     "metadata": {},
     "output_type": "execute_result"
    }
   ],
   "source": [
    "validMountainArray(arr)"
   ]
  },
  {
   "cell_type": "markdown",
   "id": "514c16e6-1c62-40e3-8a2a-84adc484a164",
   "metadata": {},
   "source": [
    "Question 4\n",
    "Given a binary array nums, return *the maximum length of a contiguous subarray with an equal number of* 0 *and* 1.\n",
    "\n"
   ]
  },
  {
   "cell_type": "code",
   "execution_count": 13,
   "id": "643cdabb-faad-4d00-bb87-338c50702976",
   "metadata": {},
   "outputs": [],
   "source": [
    "def findMaxLength(nums):\n",
    "    max_len = 0\n",
    "    count = 0\n",
    "    count_map = {0: -1}\n",
    "    for i in range(len(nums)):\n",
    "        if nums[i] == 0:\n",
    "            count += 1\n",
    "        else:\n",
    "            count -= 1\n",
    "        if count in count_map:\n",
    "            max_len = max(max_len, i - count_map[count])\n",
    "        else:\n",
    "            count_map[count] = i\n",
    "    return max_len\n"
   ]
  },
  {
   "cell_type": "code",
   "execution_count": 14,
   "id": "10bf5ced-0f4f-4e15-bce0-38897e41edd7",
   "metadata": {},
   "outputs": [],
   "source": [
    "nums = [0,1]"
   ]
  },
  {
   "cell_type": "code",
   "execution_count": 15,
   "id": "fe737339-cc67-4276-a733-3cf52322aa36",
   "metadata": {},
   "outputs": [
    {
     "data": {
      "text/plain": [
       "2"
      ]
     },
     "execution_count": 15,
     "metadata": {},
     "output_type": "execute_result"
    }
   ],
   "source": [
    "findMaxLength(nums)"
   ]
  },
  {
   "cell_type": "markdown",
   "id": "ebc394d9-8b8a-4c35-94ca-1cce8937d674",
   "metadata": {},
   "source": [
    "Question 5\n",
    "\n",
    "The **product sum** of two equal-length arrays a and b is equal to the sum of a[i] * b[i] for all 0 <= i < a.length (**0-indexed**).\n",
    "\n",
    "- For example, if a = [1,2,3,4] and b = [5,2,3,1], the **product sum** would be 1*5 + 2*2 + 3*3 + 4*1 = 22.\n",
    "\n",
    "Given two arrays nums1 and nums2 of length n, return *the **minimum product sum** if you are allowed to **rearrange** the **order** of the elements in* nums1.\n",
    "\n"
   ]
  },
  {
   "cell_type": "code",
   "execution_count": 17,
   "id": "d937ea96-be97-4951-b015-b9eec64dc2be",
   "metadata": {},
   "outputs": [],
   "source": [
    "def minProductSum(nums1, nums2):\n",
    "    nums1.sort()\n",
    "    nums2.sort()    \n",
    "    min_product_sum = 0\n",
    "    for num1, num2 in zip(nums1, nums2):\n",
    "        min_product_sum += num1 * num2\n",
    "    return min_product_sum\n"
   ]
  },
  {
   "cell_type": "code",
   "execution_count": 19,
   "id": "5b0b4bf9-3e17-4724-936e-7fa3c4a1f501",
   "metadata": {},
   "outputs": [],
   "source": [
    "nums1 = [5,3,4,2]\n",
    "nums2 = [4,2,2,5]"
   ]
  },
  {
   "cell_type": "code",
   "execution_count": 22,
   "id": "f478f397-e07a-497d-9578-d348b4073462",
   "metadata": {},
   "outputs": [
    {
     "data": {
      "text/plain": [
       "51"
      ]
     },
     "execution_count": 22,
     "metadata": {},
     "output_type": "execute_result"
    }
   ],
   "source": [
    "minProductSum(nums1,nums2)"
   ]
  },
  {
   "cell_type": "markdown",
   "id": "fdfc6fe7-e955-4e81-8f16-7c2920b11f4c",
   "metadata": {},
   "source": [
    "Question 6\n",
    "\n",
    "An integer array original is transformed into a **doubled** array changed by appending **twice the value** of every element in original, and then randomly **shuffling** the resulting array.\n",
    "\n",
    "Given an array changed, return original *if* changed *is a **doubled** array. If* changed *is not a **doubled** array, return an empty array. The elements in* original *may be returned in **any** order*.\n",
    "\n"
   ]
  },
  {
   "cell_type": "code",
   "execution_count": 24,
   "id": "2782475b-771d-44d0-a68b-b669cec63e8c",
   "metadata": {},
   "outputs": [],
   "source": [
    "def findOriginalArray(changed):\n",
    "    count_map = {}\n",
    "    for num in changed:\n",
    "        count_map[num] = count_map.get(num, 0) + 1\n",
    "    original = []\n",
    "    for num in changed:\n",
    "        if count_map.get(num, 0) == 0:\n",
    "            continue\n",
    "        if count_map.get(2 * num, 0) == 0:\n",
    "            return []\n",
    "        original.append(num)\n",
    "        count_map[num] -= 1\n",
    "        count_map[2 * num] -= 1\n",
    "    return original\n"
   ]
  },
  {
   "cell_type": "code",
   "execution_count": 25,
   "id": "81441767-f783-4e1d-a2af-84040db412f4",
   "metadata": {},
   "outputs": [],
   "source": [
    "changed = [1,3,4,2,6,8]"
   ]
  },
  {
   "cell_type": "code",
   "execution_count": 26,
   "id": "0a320b44-9d94-4172-a75b-55005b37c119",
   "metadata": {},
   "outputs": [
    {
     "data": {
      "text/plain": [
       "[1, 3, 4]"
      ]
     },
     "execution_count": 26,
     "metadata": {},
     "output_type": "execute_result"
    }
   ],
   "source": [
    "findOriginalArray(changed)"
   ]
  },
  {
   "cell_type": "markdown",
   "id": "c6dce9a8-c97a-4253-b530-18276dcd632e",
   "metadata": {},
   "source": [
    "Q7-Given a positive integer n, generate an n x n matrix filled with elements from 1 to n2 in spiral order."
   ]
  },
  {
   "cell_type": "code",
   "execution_count": 27,
   "id": "c1fb85ac-8da2-41df-8b41-a4b4adc2271e",
   "metadata": {},
   "outputs": [],
   "source": [
    "def generateMatrix(n):\n",
    "    num = 1\n",
    "    top, bottom, left, right = 0, n-1, 0, n-1\n",
    "    matrix = [[0] * n for _ in range(n)]\n",
    "    while num <= n*n:\n",
    "        for i in range(left, right+1):\n",
    "            matrix[top][i] = num\n",
    "            num += 1\n",
    "        top += 1\n",
    "        for i in range(top, bottom+1):\n",
    "            matrix[i][right] = num\n",
    "            num += 1\n",
    "        right -= 1\n",
    "        for i in range(right, left-1, -1):\n",
    "            matrix[bottom][i] = num\n",
    "            num += 1\n",
    "        bottom -= 1\n",
    "        for i in range(bottom, top-1, -1):\n",
    "            matrix[i][left] = num\n",
    "           \n"
   ]
  },
  {
   "cell_type": "markdown",
   "id": "3eb6ea23-f291-4d5c-92bd-1c38b18e9ba3",
   "metadata": {},
   "source": [
    "Q8-Given two [sparse matrices] mat1 of size m x k and mat2 of size k x n, return the result of mat1 x mat2. You may assume that multiplication is always possible."
   ]
  },
  {
   "cell_type": "code",
   "execution_count": 31,
   "id": "501eeeb1-0402-4052-867e-baecb365e274",
   "metadata": {},
   "outputs": [],
   "source": [
    "def multiply(mat1, mat2):\n",
    "    m, k = len(mat1), len(mat1[0])\n",
    "    k, n = len(mat2), len(mat2[0])\n",
    "\n",
    "    result = [[0] * n for _ in range(m)]\n",
    "\n",
    "    for i in range(m):\n",
    "        for j in range(n):\n",
    "            for x in range(k):\n",
    "                if mat1[i][x] != 0 and mat2[x][j] != 0:\n",
    "                    result[i][j] += mat1[i][x] * mat2[x][j]\n",
    "    return result\n"
   ]
  },
  {
   "cell_type": "code",
   "execution_count": 32,
   "id": "3b2dc1aa-1d6d-434e-a6c3-0c611dcab39b",
   "metadata": {},
   "outputs": [],
   "source": [
    "mat1 = [[1,0,0],[-1,0,3]]\n",
    "mat2 = [[7,0,0],[0,0,0],[0,0,1]]"
   ]
  },
  {
   "cell_type": "code",
   "execution_count": 33,
   "id": "bb02e1f3-1f35-4ca9-a592-d39248cf10d8",
   "metadata": {},
   "outputs": [
    {
     "data": {
      "text/plain": [
       "[[7, 0, 0], [-7, 0, 3]]"
      ]
     },
     "execution_count": 33,
     "metadata": {},
     "output_type": "execute_result"
    }
   ],
   "source": [
    "multiply(mat1,mat2)"
   ]
  },
  {
   "cell_type": "code",
   "execution_count": null,
   "id": "3808df97-7306-4641-8903-eeb568a2e2d9",
   "metadata": {},
   "outputs": [],
   "source": []
  }
 ],
 "metadata": {
  "kernelspec": {
   "display_name": "Python 3 (ipykernel)",
   "language": "python",
   "name": "python3"
  },
  "language_info": {
   "codemirror_mode": {
    "name": "ipython",
    "version": 3
   },
   "file_extension": ".py",
   "mimetype": "text/x-python",
   "name": "python",
   "nbconvert_exporter": "python",
   "pygments_lexer": "ipython3",
   "version": "3.10.8"
  }
 },
 "nbformat": 4,
 "nbformat_minor": 5
}
