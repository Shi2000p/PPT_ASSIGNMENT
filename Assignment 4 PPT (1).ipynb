{
 "cells": [
  {
   "cell_type": "markdown",
   "id": "575250ec-b244-40f5-b4e8-7ed68f30a0ea",
   "metadata": {},
   "source": [
    "\n",
    "Question 1\n",
    "Given three integer arrays arr1, arr2 and arr3 sorted in strictly increasing order, return a sorted array of only the integers that appeared in all three arrays.\n",
    "\n"
   ]
  },
  {
   "cell_type": "code",
   "execution_count": 1,
   "id": "44a140a4-1c53-4297-8a40-015f077100fc",
   "metadata": {},
   "outputs": [],
   "source": [
    "def find_elements(arr1, arr2, arr3):\n",
    "    p1 = p2 = p3 = 0\n",
    "    result = []\n",
    "    while p1 < len(arr1) and p2 < len(arr2) and p3 < len(arr3):\n",
    "        if arr1[p1] == arr2[p2] == arr3[p3]:\n",
    "            result.append(arr1[p1])\n",
    "            p1 += 1\n",
    "            p2 += 1\n",
    "            p3 += 1\n",
    "        elif arr1[p1] < arr2[p2]:\n",
    "            p1 += 1\n",
    "        elif arr2[p2] < arr3[p3]:\n",
    "            p2 += 1\n",
    "        else:\n",
    "            p3 += 1\n",
    "    return result\n"
   ]
  },
  {
   "cell_type": "code",
   "execution_count": 2,
   "id": "a0db5e8d-cd1f-4d96-8940-0ff2225ac5ea",
   "metadata": {},
   "outputs": [],
   "source": [
    "arr1 = [1,2,3,4,5]\n",
    "arr2 = [1,2,5,7,9]\n",
    "arr3 = [1,3,4,5,8]"
   ]
  },
  {
   "cell_type": "code",
   "execution_count": 3,
   "id": "e16e0b99-a03f-478a-ac6c-acce519e8753",
   "metadata": {},
   "outputs": [
    {
     "data": {
      "text/plain": [
       "[1, 5]"
      ]
     },
     "execution_count": 3,
     "metadata": {},
     "output_type": "execute_result"
    }
   ],
   "source": [
    "find_elements(arr1,arr2,arr3)"
   ]
  },
  {
   "cell_type": "markdown",
   "id": "7c0f3077-da65-4e95-8f88-1f42ddb85731",
   "metadata": {},
   "source": [
    "Question 2\n",
    "\n",
    "Given two 0-indexed integer arrays numst and nums2, return a list answer of size 2 where answer[0] is a list of all distinct integers in nums1 which are not present in nums?\n",
    "\n",
    "answer[1] is a list of all distinct integers in nums which are not present in num\n",
    "\n",
    "Note that the integers in the lists may be returned in any order\n",
    "\n"
   ]
  },
  {
   "cell_type": "code",
   "execution_count": 4,
   "id": "66333839-1467-46ad-8368-4a0614b43e4d",
   "metadata": {},
   "outputs": [],
   "source": [
    "def findintegers(nums1, nums2):\n",
    "    a1 = set(nums1)\n",
    "    a2 = set(nums2)\n",
    "    answer = []\n",
    "    answer.append(list(a1 - a2))\n",
    "    answer.append(list(a2 - a1))\n",
    "    return answer\n"
   ]
  },
  {
   "cell_type": "code",
   "execution_count": 5,
   "id": "b03e6c5b-2031-4982-a514-fdd99f4fc22e",
   "metadata": {},
   "outputs": [],
   "source": [
    "nums1 = [1,2,3]\n",
    "nums2 = [2,4,6]"
   ]
  },
  {
   "cell_type": "code",
   "execution_count": 6,
   "id": "2f3ec43d-72f3-46ee-82e9-9e0cb353825e",
   "metadata": {},
   "outputs": [
    {
     "data": {
      "text/plain": [
       "[[1, 3], [4, 6]]"
      ]
     },
     "execution_count": 6,
     "metadata": {},
     "output_type": "execute_result"
    }
   ],
   "source": [
    "findintegers(nums1,nums2)"
   ]
  },
  {
   "cell_type": "markdown",
   "id": "cdefbf13-3def-4092-9329-f1bea4d672b9",
   "metadata": {},
   "source": [
    "Question 3\n",
    "Given a 2D integer array matrix, return the transpose of matrix.\n",
    "The transpose of a matrix is the matrix flipped over its main diagonal, switching the matrix's row and column indices.\n",
    "\n"
   ]
  },
  {
   "cell_type": "code",
   "execution_count": 7,
   "id": "2cbc8e06-3229-4bd1-b8a6-56f5c32cfaf7",
   "metadata": {},
   "outputs": [],
   "source": [
    "def transpose_matrix(matrix):\n",
    "    rows = len(matrix)\n",
    "    columns = len(matrix[0])   \n",
    "    result = [[0 for _ in range(rows)] for _ in range(columns)]    \n",
    "    for i in range(rows):\n",
    "        for j in range(columns):\n",
    "            result[j][i] = matrix[i][j]\n",
    "    return result\n"
   ]
  },
  {
   "cell_type": "code",
   "execution_count": 8,
   "id": "7f43f8cc-a865-4a1b-bc28-4d8808648299",
   "metadata": {},
   "outputs": [],
   "source": [
    " matrix = [[1,2,3],[4,5,6],[7,8,9]]"
   ]
  },
  {
   "cell_type": "code",
   "execution_count": 9,
   "id": "9ce661b8-01ec-402a-9ee3-4f2eb6757c83",
   "metadata": {},
   "outputs": [
    {
     "data": {
      "text/plain": [
       "[[1, 4, 7], [2, 5, 8], [3, 6, 9]]"
      ]
     },
     "execution_count": 9,
     "metadata": {},
     "output_type": "execute_result"
    }
   ],
   "source": [
    "transpose_matrix(matrix)"
   ]
  },
  {
   "cell_type": "markdown",
   "id": "ce700b5d-a3c1-4cff-9d08-42b255fe0f68",
   "metadata": {},
   "source": [
    "Question 4\n",
    "Given an integer array nums of 2n integers, group these integers into n pairs (a1, b1), (a2, b2), ..., (an, bn) such that the sum of min(ai, bi) for all i is maximized. Return the maximized sum."
   ]
  },
  {
   "cell_type": "code",
   "execution_count": 10,
   "id": "3df28014-d8a7-4eab-be2a-0073aa8cdfc8",
   "metadata": {},
   "outputs": [],
   "source": [
    "def array(nums):\n",
    "    nums.sort()\n",
    "    max_sum = 0\n",
    "    for i in range(0, len(nums), 2):\n",
    "        max_sum += nums[i]\n",
    "    return max_sum\n"
   ]
  },
  {
   "cell_type": "code",
   "execution_count": 11,
   "id": "449ee483-a679-40b5-850c-b8791632e44c",
   "metadata": {},
   "outputs": [],
   "source": [
    "nums = [1,4,3,2]"
   ]
  },
  {
   "cell_type": "code",
   "execution_count": 12,
   "id": "048f8f0f-7c92-470e-abc4-907346e3b2d8",
   "metadata": {},
   "outputs": [
    {
     "data": {
      "text/plain": [
       "4"
      ]
     },
     "execution_count": 12,
     "metadata": {},
     "output_type": "execute_result"
    }
   ],
   "source": [
    "array(nums)"
   ]
  },
  {
   "cell_type": "markdown",
   "id": "05ab6a41-b590-4dc2-bda8-3bbcfb5dc91e",
   "metadata": {},
   "source": [
    "Question 5\n",
    "\n",
    "You have n coins and you want to build a staircase with these coins. The staircase consists\n",
    "\n",
    "of k rows where the ith row has exactly i coins. The last row of the staircase may be\n",
    "\n",
    "incomplete\n",
    "\n",
    "Given the integer n return the number of complete rows of the staircase you will build"
   ]
  },
  {
   "cell_type": "code",
   "execution_count": 13,
   "id": "883868c5-208f-4376-aa27-b0263f77b1a2",
   "metadata": {},
   "outputs": [],
   "source": [
    "def complete_rows(n):\n",
    "    rows = 0\n",
    "    total_coins = 0\n",
    "\n",
    "    while total_coins + rows + 1 <= n:\n",
    "        rows += 1\n",
    "        total_coins += rows\n",
    "\n",
    "    return rows\n"
   ]
  },
  {
   "cell_type": "code",
   "execution_count": 14,
   "id": "d8999636-373a-4ac9-b1d4-080fe406016d",
   "metadata": {},
   "outputs": [],
   "source": [
    "n = 5"
   ]
  },
  {
   "cell_type": "code",
   "execution_count": 15,
   "id": "67547fe7-bef4-4d48-883b-d45660989b7d",
   "metadata": {},
   "outputs": [
    {
     "data": {
      "text/plain": [
       "2"
      ]
     },
     "execution_count": 15,
     "metadata": {},
     "output_type": "execute_result"
    }
   ],
   "source": [
    "complete_rows(n)"
   ]
  },
  {
   "cell_type": "markdown",
   "id": "ec0c6070-d93e-4536-b03f-1c262a74cd1a",
   "metadata": {},
   "source": [
    "Question 6\n",
    "Given an integer array nums sorted in non-decreasing order, return an array of the squares of each number sorted in non-decreasing order."
   ]
  },
  {
   "cell_type": "code",
   "execution_count": 16,
   "id": "75fb7481-0538-4941-a4ec-2eae277926ab",
   "metadata": {},
   "outputs": [],
   "source": [
    "def sorted_squares(nums):\n",
    "    n = len(nums)\n",
    "    result = [0] * n\n",
    "    left, right = 0, n - 1\n",
    "\n",
    "    for i in range(n - 1, -1, -1):\n",
    "        if abs(nums[left]) > abs(nums[right]):\n",
    "            result[i] = nums[left] ** 2\n",
    "            left += 1\n",
    "        else:\n",
    "            result[i] = nums[right] ** 2\n",
    "            right -= 1\n",
    "    return result\n"
   ]
  },
  {
   "cell_type": "code",
   "execution_count": 17,
   "id": "351008e6-a39a-4365-87bb-6a321192825f",
   "metadata": {},
   "outputs": [],
   "source": [
    "nums = [-4,-1,0,3,10]"
   ]
  },
  {
   "cell_type": "code",
   "execution_count": 18,
   "id": "c8abcb5a-dad3-437b-bd39-621456a7b79d",
   "metadata": {},
   "outputs": [
    {
     "data": {
      "text/plain": [
       "[0, 1, 9, 16, 100]"
      ]
     },
     "execution_count": 18,
     "metadata": {},
     "output_type": "execute_result"
    }
   ],
   "source": [
    "sorted_squares(nums)"
   ]
  },
  {
   "cell_type": "markdown",
   "id": "c3f4a7ff-00de-4c12-b400-c148d6a66dd5",
   "metadata": {},
   "source": [
    "Question 7\n",
    "\n",
    "You are given an m x n matrix M initialized with all O's and an array of operations ops, where ops[i] = [ai, bi] meahs M[x][y] should be incremented by one for all 0 <= x < al and 0 <= y < bi\n",
    "\n",
    "Count and return the number of maximum integers in the matrix after performing all the\n",
    "\n",
    "operations"
   ]
  },
  {
   "cell_type": "code",
   "execution_count": 19,
   "id": "c931c14c-052c-4665-8126-184a28995f6c",
   "metadata": {},
   "outputs": [],
   "source": [
    "def count_max_integers(m, n, ops):\n",
    "    max_val = 0\n",
    "\n",
    "    for op in ops:\n",
    "        ai, bi = op\n",
    "        max_val = max(max_val, ai)\n",
    "\n",
    "    for op in ops:\n",
    "        ai, bi = op\n",
    "        max_val = min(max_val, ai)\n",
    "\n",
    "    return max_val\n",
    "\n",
    "\n"
   ]
  },
  {
   "cell_type": "code",
   "execution_count": 20,
   "id": "25bcbac2-f8da-43bb-9a69-12abb1f44187",
   "metadata": {},
   "outputs": [],
   "source": [
    "m = 3\n",
    "n = 3\n",
    "ops = [[2,2],[3,3]]"
   ]
  },
  {
   "cell_type": "code",
   "execution_count": 21,
   "id": "668535c0-2f7e-4658-9df2-653c6be4d802",
   "metadata": {},
   "outputs": [
    {
     "data": {
      "text/plain": [
       "2"
      ]
     },
     "execution_count": 21,
     "metadata": {},
     "output_type": "execute_result"
    }
   ],
   "source": [
    "count_max_integers(m,n,ops)"
   ]
  },
  {
   "cell_type": "markdown",
   "id": "b468296e-abee-444c-859f-31de0cebd311",
   "metadata": {},
   "source": [
    "\n",
    "Question 8\n",
    "\n",
    "Given the array nums consisting of 2n elements in the form 1x12 m.y1,y2ynl Return the array in the form (x1,y1x2 y2, xn.yn)."
   ]
  },
  {
   "cell_type": "code",
   "execution_count": 22,
   "id": "44a85861-f169-4fe5-9b12-1ad1bd064eaa",
   "metadata": {},
   "outputs": [],
   "source": [
    "def reformat_array(nums):\n",
    "    result = []\n",
    "\n",
    "    for i in range(0, len(nums), 2):\n",
    "        x, y = nums[i].split('.')\n",
    "        result.append(f'({x},{y})')\n",
    "\n",
    "    return result\n"
   ]
  },
  {
   "cell_type": "code",
   "execution_count": null,
   "id": "e6378611-f60b-4aaa-bc49-ec80698f97f3",
   "metadata": {},
   "outputs": [],
   "source": []
  },
  {
   "cell_type": "code",
   "execution_count": null,
   "id": "a09e74a9-6566-40e0-a0dc-63fd6dce9a8a",
   "metadata": {},
   "outputs": [],
   "source": []
  },
  {
   "cell_type": "code",
   "execution_count": null,
   "id": "bb8cc211-1cc3-435f-9b8e-70a2754dc34e",
   "metadata": {},
   "outputs": [],
   "source": []
  }
 ],
 "metadata": {
  "kernelspec": {
   "display_name": "Python 3 (ipykernel)",
   "language": "python",
   "name": "python3"
  },
  "language_info": {
   "codemirror_mode": {
    "name": "ipython",
    "version": 3
   },
   "file_extension": ".py",
   "mimetype": "text/x-python",
   "name": "python",
   "nbconvert_exporter": "python",
   "pygments_lexer": "ipython3",
   "version": "3.10.8"
  }
 },
 "nbformat": 4,
 "nbformat_minor": 5
}
