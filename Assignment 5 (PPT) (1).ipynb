{
 "cells": [
  {
   "cell_type": "markdown",
   "id": "9467e231-5963-4354-822b-c22b39e6a34f",
   "metadata": {},
   "source": [
    "Question 1\n",
    "\n",
    "Convert 1D Array Into 20 Array\n",
    "\n",
    "You are given a 0-indexed 1-dimensional (1D) integer array original, and two integers, m and n. You are tasked with creating a 2-dimensional (2D) array with m rows and in columns using all the elements from original. The elements from indices 0 to n-1 (inclusive) of original should form the first row of the\n",
    "\n",
    "constructed 20 array, the elements from indices n to 2-1 (inclusive) should form the\n",
    "\n",
    "second row of the constructed 20 array, and so on\n",
    "\n",
    "Return an mx 20 andy constructed according to the above procedure or an empty 20\n",
    "\n",
    "array if it is imposible\n",
    "\n"
   ]
  },
  {
   "cell_type": "code",
   "execution_count": 1,
   "id": "c30964fd-857e-4e66-a4ea-9f0f26373e54",
   "metadata": {},
   "outputs": [],
   "source": [
    "def convt_1d_to_2d(original, m, n):\n",
    "    if m * n != len(org):\n",
    "        return [[]] * m  \n",
    "    result = []\n",
    "    for i in range(0, len(org), n):\n",
    "        result.append(org[i:i+n])\n",
    "    return result[:m]\n"
   ]
  },
  {
   "cell_type": "code",
   "execution_count": 2,
   "id": "be7a5960-39e7-4c0d-9d19-d48095384688",
   "metadata": {},
   "outputs": [],
   "source": [
    "org = [1,2,3,4]\n",
    "m = 2\n",
    "n = 2"
   ]
  },
  {
   "cell_type": "code",
   "execution_count": 3,
   "id": "29435919-9a5d-4fe3-8ab0-c144f361a688",
   "metadata": {},
   "outputs": [
    {
     "data": {
      "text/plain": [
       "[[1, 2], [3, 4]]"
      ]
     },
     "execution_count": 3,
     "metadata": {},
     "output_type": "execute_result"
    }
   ],
   "source": [
    "convt_1d_to_2d(org,m,n)"
   ]
  },
  {
   "cell_type": "markdown",
   "id": "4672ded3-6e84-42ea-84e4-946a592be62c",
   "metadata": {},
   "source": [
    "Question 2\n",
    "\n",
    "You have n coins and you want to build a staircase with these coins. The staircase consists of k rows where the ith row has exactly i coins. The last row of the staircase may be incomplete."
   ]
  },
  {
   "cell_type": "code",
   "execution_count": 4,
   "id": "4ed23689-cd66-45b9-b203-927a9e702969",
   "metadata": {},
   "outputs": [],
   "source": [
    "def staircase(n):\n",
    "    rows = 0\n",
    "    while n >= rows + 1:\n",
    "        rows += 1\n",
    "        n -= rows\n",
    "    return rows, n\n"
   ]
  },
  {
   "cell_type": "code",
   "execution_count": 5,
   "id": "6b71d614-12e2-470a-bd4c-ebd011a5b054",
   "metadata": {},
   "outputs": [],
   "source": [
    "n = 5"
   ]
  },
  {
   "cell_type": "code",
   "execution_count": 6,
   "id": "6e19b79c-2358-447b-a080-bb451a416360",
   "metadata": {},
   "outputs": [
    {
     "data": {
      "text/plain": [
       "(2, 2)"
      ]
     },
     "execution_count": 6,
     "metadata": {},
     "output_type": "execute_result"
    }
   ],
   "source": [
    "staircase(n)"
   ]
  },
  {
   "cell_type": "markdown",
   "id": "f097c83a-7d11-46a5-8b25-0502ef7bc72e",
   "metadata": {},
   "source": [
    "Question 3\n",
    "\n",
    "Given an integer array nums sorted in non-decreasing order, return an array of the squares of each number sorted in non decreasing order."
   ]
  },
  {
   "cell_type": "code",
   "execution_count": 7,
   "id": "5b8f4752-1538-4589-a07a-e87583dfe7d3",
   "metadata": {},
   "outputs": [],
   "source": [
    "def sorted_squares(nums):\n",
    "    n = len(nums)\n",
    "    result = [0] * n\n",
    "    left = 0\n",
    "    right = n - 1\n",
    "    index = n - 1\n",
    "    while left <= right:\n",
    "        if abs(nums[left]) > abs(nums[right]):\n",
    "            result[index] = nums[left] ** 2\n",
    "            left += 1\n",
    "        else:\n",
    "            result[index] = nums[right] ** 2\n",
    "            right -= 1\n",
    "        index -= 1\n",
    "    return result\n"
   ]
  },
  {
   "cell_type": "code",
   "execution_count": 8,
   "id": "3e2527e0-fbf6-47b7-99db-1ca528307e09",
   "metadata": {},
   "outputs": [],
   "source": [
    "nums = [-4,-1,0,3,10]"
   ]
  },
  {
   "cell_type": "code",
   "execution_count": 9,
   "id": "42172fd3-3b22-4f6c-a3e5-01a222b7dff3",
   "metadata": {},
   "outputs": [
    {
     "data": {
      "text/plain": [
       "[0, 1, 9, 16, 100]"
      ]
     },
     "execution_count": 9,
     "metadata": {},
     "output_type": "execute_result"
    }
   ],
   "source": [
    "sorted_squares(nums)"
   ]
  },
  {
   "cell_type": "markdown",
   "id": "0bd100bc-eeb0-4247-a71a-3761bec7eb87",
   "metadata": {},
   "source": [
    "Question 4\n",
    "\n",
    "Given two 0-indexed integer arrays numst and nums2, return a list answer of size 2 where:\n",
    "\n",
    "answer[0] is a list of all distinct integers in nums1 which are not present in nums2. ⚫ answer[1] is a list of all distinct integers in nums2 which are not present in nums1.\n",
    "\n",
    "Note that the integers in the lists may be returned in any order."
   ]
  },
  {
   "cell_type": "code",
   "execution_count": 13,
   "id": "2283a67b-eaca-4796-b7a8-432d2a41151e",
   "metadata": {},
   "outputs": [],
   "source": [
    "def find_disjoint_elements(nums1, nums2):\n",
    "    set1 = set(nums1)\n",
    "    set2 = set(nums2)    \n",
    "    distinct_nums1 = set1 - set2\n",
    "    distinct_nums2 = set2 - set1    \n",
    "    return [list(distinct_nums1), list(distinct_nums2)]\n"
   ]
  },
  {
   "cell_type": "code",
   "execution_count": 14,
   "id": "c69fd896-4d14-4e8b-8ea4-26b88154888b",
   "metadata": {},
   "outputs": [],
   "source": [
    "nums1 = [1,2,3]\n",
    "nums2 = [2,4,6]"
   ]
  },
  {
   "cell_type": "code",
   "execution_count": 15,
   "id": "49cc91b7-0ed4-43eb-bb5b-04c9fecc7630",
   "metadata": {},
   "outputs": [
    {
     "data": {
      "text/plain": [
       "[[1, 3], [4, 6]]"
      ]
     },
     "execution_count": 15,
     "metadata": {},
     "output_type": "execute_result"
    }
   ],
   "source": [
    "find_disjoint_elements(nums1,nums2)"
   ]
  },
  {
   "cell_type": "markdown",
   "id": "3226bab1-cf3e-452d-8736-274d424fb612",
   "metadata": {},
   "source": [
    "Question 5\n",
    "\n",
    "Given two integer arrays arr1 and arr2, and the integer d, return the distance value between the two arrays, The distance value is defined as the number of elements arr1 such that there is not any\n",
    "\n",
    "element arr2l) where [1]-arr2<= d.\n",
    "\n"
   ]
  },
  {
   "cell_type": "code",
   "execution_count": 16,
   "id": "edd41c05-617a-458b-9dec-78104e5b2ff4",
   "metadata": {},
   "outputs": [],
   "source": [
    "def dist_value(arr1, arr2, d):\n",
    "    count = 0\n",
    "    for num1 in arr1:\n",
    "        is_valid = True\n",
    "        for num2 in arr2:\n",
    "            if abs(num1 - num2) <= d:\n",
    "                is_valid = False\n",
    "                break\n",
    "        if is_valid:\n",
    "            count += 1\n",
    "    return count\n"
   ]
  },
  {
   "cell_type": "code",
   "execution_count": 17,
   "id": "d2792525-eefe-4e08-b246-9beb9d9d449a",
   "metadata": {},
   "outputs": [],
   "source": [
    "arr1 = [4,5,8]\n",
    "arr2 = [10,9,1,8]\n",
    "d = 2"
   ]
  },
  {
   "cell_type": "code",
   "execution_count": 18,
   "id": "d1cfd976-9f98-40e8-9b2a-8e2d7a202ede",
   "metadata": {},
   "outputs": [
    {
     "data": {
      "text/plain": [
       "2"
      ]
     },
     "execution_count": 18,
     "metadata": {},
     "output_type": "execute_result"
    }
   ],
   "source": [
    "dist_value(arr1,arr2,d)"
   ]
  },
  {
   "cell_type": "markdown",
   "id": "0e871cb4-304d-4295-b8c0-f62c77ba45e5",
   "metadata": {},
   "source": [
    "Question 6\n",
    "\n",
    "I Given an integer array nums of length n where all the integers of nums are in the range [1, nj and each integer appears once or twice, return an array of all the integers that appears twice\n",
    "\n",
    "You must write an algorithm that runs in O(n) time and uses only constant extra space.\n",
    "\n"
   ]
  },
  {
   "cell_type": "code",
   "execution_count": 19,
   "id": "497255ac-efa3-406d-9660-2ba0beb2a8b3",
   "metadata": {},
   "outputs": [],
   "source": [
    "def find_duplicates(nums):\n",
    "    result = []\n",
    "    for num in nums:\n",
    "        idx = abs(num) - 1\n",
    "        if nums[idx] > 0:\n",
    "            nums[idx] = -nums[idx]\n",
    "        else:\n",
    "            result.append(abs(num))\n",
    "    return result\n"
   ]
  },
  {
   "cell_type": "code",
   "execution_count": 20,
   "id": "5c1e0b55-b84d-422e-addc-39a35dfc1c91",
   "metadata": {},
   "outputs": [],
   "source": [
    "nums = [4,3,2,7,8,2,3,1]"
   ]
  },
  {
   "cell_type": "code",
   "execution_count": 21,
   "id": "c7226556-ef99-44ad-8df3-fd455c9171a9",
   "metadata": {},
   "outputs": [
    {
     "data": {
      "text/plain": [
       "[2, 3]"
      ]
     },
     "execution_count": 21,
     "metadata": {},
     "output_type": "execute_result"
    }
   ],
   "source": [
    "find_duplicates(nums)"
   ]
  },
  {
   "cell_type": "markdown",
   "id": "a1a5b242-07d7-42e5-a764-b8e192dbf8ff",
   "metadata": {},
   "source": [
    "Question 7\n",
    "\n",
    "Suppose an array of length n sorted in ascending order is rotated between 1 and n times For example, the array pums 10,1,2,4,5,6,7] might become:\n",
    "\n",
    "14,5,6,7,0,1,21 if it was rotated 4 times. 10,1,2,4,5,6,7] if it was rotated 7 times.\n",
    "\n",
    "Notice that rotating an array [a[0], a[1], a[2].aln-1)) 1 time results in the array Jan-1) a[0] a[1], [2] a[n-2]] Given the sorted rotated array nums of unique elements return the minimum element of\n",
    "\n",
    "this array\n",
    "\n",
    "You must write an algorithm that runs in Ollog n) time."
   ]
  },
  {
   "cell_type": "code",
   "execution_count": 23,
   "id": "7381f031-527a-41f9-b8d5-95130d0c9530",
   "metadata": {},
   "outputs": [],
   "source": [
    "def minimum(nums):\n",
    "    left = 0\n",
    "    right = len(nums) - 1\n",
    "    while left < right:\n",
    "        mid = (left + right) // 2\n",
    "        if nums[mid] > nums[right]:\n",
    "            left = mid + 1\n",
    "        else:\n",
    "            right = mid\n",
    "    return nums[left]\n"
   ]
  },
  {
   "cell_type": "code",
   "execution_count": 24,
   "id": "360ed9e2-a393-43a7-8b50-665217b5dd4f",
   "metadata": {},
   "outputs": [],
   "source": [
    "nums = [3,4,5,1,2]"
   ]
  },
  {
   "cell_type": "code",
   "execution_count": 25,
   "id": "9337f9d0-c78f-4d74-a994-f3ad8d9c2e18",
   "metadata": {},
   "outputs": [
    {
     "data": {
      "text/plain": [
       "1"
      ]
     },
     "execution_count": 25,
     "metadata": {},
     "output_type": "execute_result"
    }
   ],
   "source": [
    "minimum(nums)"
   ]
  },
  {
   "cell_type": "code",
   "execution_count": null,
   "id": "d8d7f4dc-1264-433d-a21c-4dc648cfe086",
   "metadata": {},
   "outputs": [],
   "source": []
  }
 ],
 "metadata": {
  "kernelspec": {
   "display_name": "Python 3 (ipykernel)",
   "language": "python",
   "name": "python3"
  },
  "language_info": {
   "codemirror_mode": {
    "name": "ipython",
    "version": 3
   },
   "file_extension": ".py",
   "mimetype": "text/x-python",
   "name": "python",
   "nbconvert_exporter": "python",
   "pygments_lexer": "ipython3",
   "version": "3.10.8"
  }
 },
 "nbformat": 4,
 "nbformat_minor": 5
}
