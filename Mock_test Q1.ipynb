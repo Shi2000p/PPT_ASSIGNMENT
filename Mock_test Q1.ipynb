{
 "cells": [
  {
   "cell_type": "markdown",
   "id": "62f44474-4404-4e62-a0fe-f48a29d2162a",
   "metadata": {},
   "source": [
    "# Move Zeroes"
   ]
  },
  {
   "cell_type": "code",
   "execution_count": null,
   "id": "a6ae8cd8-4a76-44f5-8afd-845e7a817b64",
   "metadata": {},
   "outputs": [],
   "source": []
  },
  {
   "cell_type": "markdown",
   "id": "6d8a11cc-6528-4190-a448-883521954944",
   "metadata": {},
   "source": [
    "## Given an integer array nums, move all 0's to the end of it while maintaining the relative order of the non-zero elements.\n",
    "## Note that you must do this in-place without making a copy of the array."
   ]
  },
  {
   "cell_type": "code",
   "execution_count": 3,
   "id": "5070748d-8e58-40ed-892e-5490e35bc656",
   "metadata": {},
   "outputs": [],
   "source": [
    "#Example 1:\n",
    "nums = [0,1,0,3,12]"
   ]
  },
  {
   "cell_type": "code",
   "execution_count": 9,
   "id": "19836f08-df2e-4e6f-bc13-d477c6bf6b2b",
   "metadata": {},
   "outputs": [
    {
     "name": "stdout",
     "output_type": "stream",
     "text": [
      "[1, 3, 12, '0', '0']\n"
     ]
    }
   ],
   "source": [
    "solution=[i for i in nums if i!=0]\n",
    "for j in range(nums.count(0)):\n",
    "    solution.extend(\"0\")\n",
    "print(solution)    "
   ]
  },
  {
   "cell_type": "code",
   "execution_count": 10,
   "id": "0c7245f2-d1e6-44fe-8d48-2f7b3a363ef9",
   "metadata": {},
   "outputs": [],
   "source": [
    "#Example 2:\n",
    "nums = [0]"
   ]
  },
  {
   "cell_type": "code",
   "execution_count": 11,
   "id": "24b4989c-9499-4220-ae40-4a0e744463a2",
   "metadata": {},
   "outputs": [
    {
     "name": "stdout",
     "output_type": "stream",
     "text": [
      "['0']\n"
     ]
    }
   ],
   "source": [
    "solution=[i for i in nums if i!=0]\n",
    "for j in range(nums.count(0)):\n",
    "    solution.extend(\"0\")\n",
    "print(solution)    "
   ]
  },
  {
   "cell_type": "code",
   "execution_count": null,
   "id": "5f7fdd7d-9dad-4e58-8b54-93e89f08e806",
   "metadata": {},
   "outputs": [],
   "source": []
  }
 ],
 "metadata": {
  "kernelspec": {
   "display_name": "Python 3 (ipykernel)",
   "language": "python",
   "name": "python3"
  },
  "language_info": {
   "codemirror_mode": {
    "name": "ipython",
    "version": 3
   },
   "file_extension": ".py",
   "mimetype": "text/x-python",
   "name": "python",
   "nbconvert_exporter": "python",
   "pygments_lexer": "ipython3",
   "version": "3.10.8"
  }
 },
 "nbformat": 4,
 "nbformat_minor": 5
}
