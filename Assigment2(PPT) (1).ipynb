{
 "cells": [
  {
   "cell_type": "markdown",
   "id": "9d0309eb-531a-4f1c-bcea-213589f1d566",
   "metadata": {},
   "source": [
    "Q-1 Given an integer array nums of 2n integers, group these integers into n pairs (a1, b1), (a2, b2),..., (an, bn) such that the sum of min(ai, bi) for all i is maximized. Return the maximized sum."
   ]
  },
  {
   "cell_type": "code",
   "execution_count": 2,
   "id": "0575db82-7786-41ed-b3d9-55ec30b70a0d",
   "metadata": {},
   "outputs": [],
   "source": [
    "def PairSum(nums):\n",
    "    nums.sort()  # Sort the array in ascending order\n",
    "    result = 0\n",
    "    for i in range(0, len(nums), 2):\n",
    "        result += nums[i]\n",
    "    return result\n"
   ]
  },
  {
   "cell_type": "code",
   "execution_count": 3,
   "id": "80485de3-8719-44e4-af26-66bbb1b6a329",
   "metadata": {},
   "outputs": [
    {
     "name": "stdout",
     "output_type": "stream",
     "text": [
      "4\n"
     ]
    }
   ],
   "source": [
    "nums = [1, 4, 3, 2]\n",
    "max_sum = PairSum(nums)\n",
    "print(max_sum) \n"
   ]
  },
  {
   "cell_type": "markdown",
   "id": "0fc3c406-5ca9-4aa6-8d57-8e0c7ee9388f",
   "metadata": {},
   "source": [
    "Question 2\n",
    "Alice has n candies, where the ith candy is of type candyType[i]. Alice noticed that she started to gain weight, so she visited a doctor. \n",
    "\n",
    "The doctor advised Alice to only eat n / 2 of the candies she has (n is always even). Alice likes her candies very much, and she wants to eat the maximum number of different types of candies while still following the doctor's advice. \n",
    "\n",
    "Given the integer array candyType of length n, return the maximum number of different types of candies she can eat if she only eats n / 2 of them."
   ]
  },
  {
   "cell_type": "code",
   "execution_count": 4,
   "id": "302a4630-34dc-44b8-95b9-551d2301e248",
   "metadata": {},
   "outputs": [],
   "source": [
    "def Candies(candyType):\n",
    "    max_candies = len(set(candyType))\n",
    "    return min(max_candies, len(candyType) // 2)\n"
   ]
  },
  {
   "cell_type": "code",
   "execution_count": 5,
   "id": "4474c6e2-08ce-4c6a-8abc-9abf0f7e518c",
   "metadata": {},
   "outputs": [
    {
     "name": "stdout",
     "output_type": "stream",
     "text": [
      "3\n"
     ]
    }
   ],
   "source": [
    "candyType = [1, 1, 2, 2, 3, 3]\n",
    "max_types = Candies(candyType)\n",
    "print(max_types)  \n"
   ]
  },
  {
   "cell_type": "markdown",
   "id": "b3cef6d3-a05e-4f17-8368-4e3f4eec0230",
   "metadata": {},
   "source": [
    "Question 3\n",
    "We define a harmonious array as an array where the difference between its maximum value\n",
    "and its minimum value is exactly 1.\n",
    "Given an integer array nums, return the length of its longest harmonious subsequence\n",
    "among all its possible subsequences.\n",
    "A subsequence of an array is a sequence that can be derived from the array by deleting some or no elements without changing the order of the remaining elements."
   ]
  },
  {
   "cell_type": "code",
   "execution_count": 6,
   "id": "7f8f53c2-bad8-47a9-90be-519f3f3f0f78",
   "metadata": {},
   "outputs": [],
   "source": [
    "def findLHS(nums):\n",
    "    frequency = {}\n",
    "    max_length = 0\n",
    "    \n",
    "    for num in nums:\n",
    "        frequency[num] =frequency.get(num, 0) + 1\n",
    "        \n",
    "    for num in frequency:\n",
    "        if num + 1 in frequency:\n",
    "            length = frequency[num] + frequency[num + 1]\n",
    "            max_length = max(max_length, length)\n",
    "    \n",
    "    return max_length\n"
   ]
  },
  {
   "cell_type": "code",
   "execution_count": 7,
   "id": "777bd56c-4747-4005-928d-2cc0117bc4e9",
   "metadata": {},
   "outputs": [
    {
     "name": "stdout",
     "output_type": "stream",
     "text": [
      "5\n"
     ]
    }
   ],
   "source": [
    "nums = [1, 3, 2, 2, 5, 2, 3, 7]\n",
    "max_subsequence_length = findLHS(nums)\n",
    "print(max_subsequence_length)  "
   ]
  },
  {
   "cell_type": "markdown",
   "id": "bff69433-3412-4b2b-a855-7c00ffe53ddc",
   "metadata": {},
   "source": [
    "Question 4\n",
    "You have a long flowerbed in which some of the plots are planted, and some are not.\n",
    "However, flowers cannot be planted in adjacent plots.\n",
    "Given an integer array flowerbed containing 0's and 1's, where 0 means empty and 1 means not empty, and an integer n, return true if n new flowers can be planted in the flowerbed without violating the no-adjacent-flowers rule and false otherwise."
   ]
  },
  {
   "cell_type": "code",
   "execution_count": 8,
   "id": "f22573e2-a147-4e67-b28a-493625030722",
   "metadata": {},
   "outputs": [],
   "source": [
    "def Place_Flowers(flowerbed, n):\n",
    "    length = len(flowerbed)\n",
    "    count = 0\n",
    "    i = 0\n",
    "    \n",
    "    while i < length:\n",
    "        if flowerbed[i] == 0 and (i == 0 or flowerbed[i - 1] == 0) and (i == length - 1 or flowerbed[i + 1] == 0):\n",
    "            flowerbed[i] = 1\n",
    "            count += 1\n",
    "            i += 2\n",
    "        else:\n",
    "            i += 1\n",
    "        \n",
    "        if count >= n:\n",
    "            return True\n",
    "    \n",
    "    return False\n"
   ]
  },
  {
   "cell_type": "code",
   "execution_count": 9,
   "id": "534fe887-af0f-4de5-81a0-7025ebaa7c08",
   "metadata": {},
   "outputs": [
    {
     "name": "stdout",
     "output_type": "stream",
     "text": [
      "True\n"
     ]
    }
   ],
   "source": [
    "flowerbed = [1, 0, 0, 0, 1]\n",
    "n = 1\n",
    "plant = Place_Flowers(flowerbed, n)\n",
    "print(plant) \n"
   ]
  },
  {
   "cell_type": "markdown",
   "id": "eb8ab1a3-baf9-437c-bb58-ab1bd1c3abac",
   "metadata": {},
   "source": [
    "Question 5\n",
    "Given an integer array nums, find three numbers whose product is maximum and return the maximum product."
   ]
  },
  {
   "cell_type": "code",
   "execution_count": 10,
   "id": "c162a1a4-0d8d-4ee8-a9ff-995485725f5f",
   "metadata": {},
   "outputs": [],
   "source": [
    "def maximumProduct(nums):\n",
    "    nums.sort()\n",
    "    n = len(nums)\n",
    "    return max(nums[n-1] * nums[n-2] * nums[n-3], nums[0] * nums[1] * nums[n-1])\n"
   ]
  },
  {
   "cell_type": "code",
   "execution_count": 11,
   "id": "cef74897-3a90-44ba-b9d2-a8e8543d1ea6",
   "metadata": {},
   "outputs": [
    {
     "name": "stdout",
     "output_type": "stream",
     "text": [
      "6\n"
     ]
    }
   ],
   "source": [
    "nums = [1,2,3]\n",
    "max_prod = maximumProduct(nums)\n",
    "print(max_prod) \n"
   ]
  },
  {
   "cell_type": "markdown",
   "id": "a70c67d8-4815-4eff-9b99-65adca87ae61",
   "metadata": {},
   "source": [
    "Question 6\n",
    "Given an array of integers nums which is sorted in ascending order, and an integer target,\n",
    "write a function to search target in nums. If target exists, then return its index. Otherwise,return -1.\n",
    "You must write an algorithm with O(log n) runtime complexity.\n",
    "\n"
   ]
  },
  {
   "cell_type": "code",
   "execution_count": 12,
   "id": "f93e920e-b8af-4b14-9859-6b1e5927864c",
   "metadata": {},
   "outputs": [],
   "source": [
    "def search(nums, target):\n",
    "    left, right = 0, len(nums) - 1\n",
    "    \n",
    "    while left <= right:\n",
    "        mid = left + (right - left) // 2\n",
    "        \n",
    "        if nums[mid] == target:\n",
    "            return mid\n",
    "        elif nums[mid] < target:\n",
    "            left = mid + 1\n",
    "        else:\n",
    "            right = mid - 1\n",
    "    \n",
    "    return -1\n"
   ]
  },
  {
   "cell_type": "code",
   "execution_count": 13,
   "id": "23078046-9408-41e1-9a10-930e000cca9f",
   "metadata": {},
   "outputs": [
    {
     "name": "stdout",
     "output_type": "stream",
     "text": [
      "4\n"
     ]
    }
   ],
   "source": [
    "nums = [-1,0,3,5,9,12]\n",
    "target = 9\n",
    "index = search(nums, target)\n",
    "print(index)  \n"
   ]
  },
  {
   "cell_type": "markdown",
   "id": "86c5aa29-66f8-419a-ab52-378e95764fe7",
   "metadata": {},
   "source": [
    "Question 7\n",
    "An array is monotonic if it is either monotone increasing or monotone decreasing.\n",
    "An array nums is monotone increasing if for all i <= j, nums[i] <= nums[j]. An array nums is\n",
    "monotone decreasing if for all i <= j, nums[i] >= nums[j].\n",
    "Given an integer array nums, return true if the given array is monotonic, or false otherwise.\n"
   ]
  },
  {
   "cell_type": "code",
   "execution_count": 15,
   "id": "e18181d4-0c30-4f24-8251-3d9e296f3268",
   "metadata": {},
   "outputs": [],
   "source": [
    "def Monotonic(nums):\n",
    "    increas = decreas = True\n",
    "    \n",
    "    for i in range(1, len(nums)):\n",
    "        if nums[i] < nums[i-1]:\n",
    "            increas = False\n",
    "        if nums[i] > nums[i-1]:\n",
    "            decreas = False\n",
    "    \n",
    "    return increas or decreas\n"
   ]
  },
  {
   "cell_type": "code",
   "execution_count": 16,
   "id": "971480e7-2178-4d09-b80a-a349f837314b",
   "metadata": {},
   "outputs": [
    {
     "name": "stdout",
     "output_type": "stream",
     "text": [
      "True\n"
     ]
    }
   ],
   "source": [
    "nums = [1, 2, 2, 3]\n",
    "is_monotonic = Monotonic(nums)\n",
    "print(is_monotonic)  \n"
   ]
  },
  {
   "cell_type": "markdown",
   "id": "6f3d1797-bb3d-4cbc-8d5b-82f41a9b2d2e",
   "metadata": {},
   "source": [
    "Question 8\n",
    "You are given an integer array nums and an integer k.\n",
    "In one operation, you can choose any index i where 0 <= i < nums.length and change nums[i] to nums[i] + x where x is an integer from the range [-k, k]. You can apply this operation at most once for each index i.\n",
    "The score of nums is the difference between the maximum and minimum elements in nums.\n",
    "Return the minimum score of nums after applying the mentioned operation at most once for each index in it."
   ]
  },
  {
   "cell_type": "code",
   "execution_count": 17,
   "id": "295bcc45-71b1-43ba-9fe7-14945439cc51",
   "metadata": {},
   "outputs": [],
   "source": [
    "def minimumScore(nums, k):\n",
    "    min_num = float('inf')\n",
    "    max_num = float('-inf')\n",
    "\n",
    "    for num in nums:\n",
    "        min_num = min(min_num, num)\n",
    "        max_num = max(max_num, num)\n",
    "\n",
    "    initial_score = max_num - min_num\n",
    "\n",
    "    if initial_score == 0:\n",
    "        return 0\n",
    "\n",
    "    min_score = float('inf')\n",
    "\n",
    "    for num in nums:\n",
    "        new_min = min(min_num + k, num - k)\n",
    "        new_max = max(max_num - k, num + k)\n",
    "        min_score = min(min_score, new_max - new_min)\n",
    "\n",
    "    return min_score\n"
   ]
  },
  {
   "cell_type": "code",
   "execution_count": 18,
   "id": "1b4c393a-733b-4caf-8a54-b43f8f603b44",
   "metadata": {},
   "outputs": [
    {
     "name": "stdout",
     "output_type": "stream",
     "text": [
      "0\n"
     ]
    }
   ],
   "source": [
    "nums = [1]\n",
    "k = 3\n",
    "min_score = minimumScore(nums, k)\n",
    "print(min_score)\n"
   ]
  },
  {
   "cell_type": "code",
   "execution_count": null,
   "id": "636f9751-9a9a-4a40-8a58-7204e23a52f2",
   "metadata": {},
   "outputs": [],
   "source": []
  }
 ],
 "metadata": {
  "kernelspec": {
   "display_name": "Python 3 (ipykernel)",
   "language": "python",
   "name": "python3"
  },
  "language_info": {
   "codemirror_mode": {
    "name": "ipython",
    "version": 3
   },
   "file_extension": ".py",
   "mimetype": "text/x-python",
   "name": "python",
   "nbconvert_exporter": "python",
   "pygments_lexer": "ipython3",
   "version": "3.10.8"
  }
 },
 "nbformat": 4,
 "nbformat_minor": 5
}
