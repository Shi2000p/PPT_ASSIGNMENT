{
 "cells": [
  {
   "cell_type": "markdown",
   "id": "2be02e37-a078-4ebc-a0ab-f9df8ee35cef",
   "metadata": {},
   "source": [
    "Question 1\n",
    "Given two strings s and t, determine if they are isomorphic.\n",
    "Two strings s and t are isomorphic if the characters in s can be replaced to get t.\n",
    "All occurrences of a character must be replaced with another character while preserving the order of characters. No two characters may map to the same character, but a character may map to itself."
   ]
  },
  {
   "cell_type": "code",
   "execution_count": 1,
   "id": "ac5588df-f385-4ed4-ba6a-600c364903c9",
   "metadata": {},
   "outputs": [],
   "source": [
    "def isomorphic_strings(s, t):\n",
    "    if len(s) != len(t):\n",
    "        return False    \n",
    "    s_map = {}\n",
    "    t_map = {}    \n",
    "    for s_char, t_char in zip(s, t):\n",
    "        if s_char in s_map and s_map[s_char] != t_char:\n",
    "            return False\n",
    "        if t_char in t_map and t_map[t_char] != s_char:\n",
    "            return False\n",
    "        if s_char not in s_map and t_char not in t_map:\n",
    "            s_map[s_char] = t_char\n",
    "            t_map[t_char] = s_char    \n",
    "    return True\n"
   ]
  },
  {
   "cell_type": "code",
   "execution_count": 2,
   "id": "520c0678-b168-4885-94b9-c39b3697f446",
   "metadata": {},
   "outputs": [],
   "source": [
    "s = \"egg\"\n",
    "t = \"add\""
   ]
  },
  {
   "cell_type": "code",
   "execution_count": 3,
   "id": "5d3954a8-e09f-4bfc-9274-31caed0412fc",
   "metadata": {},
   "outputs": [
    {
     "data": {
      "text/plain": [
       "True"
      ]
     },
     "execution_count": 3,
     "metadata": {},
     "output_type": "execute_result"
    }
   ],
   "source": [
    "isomorphic_strings(s,t)"
   ]
  },
  {
   "cell_type": "markdown",
   "id": "179d0990-c994-4493-8c17-070db1986833",
   "metadata": {},
   "source": [
    "Q2-Given a string num which represents an integer, return true if num *is a **strobogrammatic number\n",
    "A  strobogrammatic number** is a number that looks the same when rotated 180 degrees (looked at upside down)."
   ]
  },
  {
   "cell_type": "code",
   "execution_count": 10,
   "id": "30b701af-3edb-4f1c-ba0b-468a72b1f38c",
   "metadata": {},
   "outputs": [],
   "source": [
    "def is_strobogrammatic(num):\n",
    "    strobogrammatic_pairs = {\"0\": \"0\", \"1\": \"1\", \"6\": \"9\", \"8\": \"8\", \"9\": \"6\"}\n",
    "    left, right = 0, len(num) - 1\n",
    "    while left <= right:\n",
    "        if num[left] not in strobogrammatic_pairs or strobogrammatic_pairs[num[left]] != num[right]:\n",
    "            return False\n",
    "        left += 1\n",
    "        right -= 1\n",
    "    return True\n"
   ]
  },
  {
   "cell_type": "code",
   "execution_count": 4,
   "id": "37d1ea3a-de17-44d1-9aff-3c89b85a6094",
   "metadata": {},
   "outputs": [],
   "source": [
    "num = \"69\""
   ]
  },
  {
   "cell_type": "code",
   "execution_count": 11,
   "id": "c23ac748-4dcc-4b63-8884-934f3e3cf26a",
   "metadata": {},
   "outputs": [
    {
     "data": {
      "text/plain": [
       "True"
      ]
     },
     "execution_count": 11,
     "metadata": {},
     "output_type": "execute_result"
    }
   ],
   "source": [
    "is_strobogrammatic(num)"
   ]
  },
  {
   "cell_type": "markdown",
   "id": "7c650bba-9f3e-485f-b27a-14735a49ef30",
   "metadata": {},
   "source": [
    "Question 3\n",
    "Given two non-negative integers, num1 and num2 represented as string, return *the sum of* num1 *and* num2 *as a string.\n",
    "You must solve the problem without using any built-in library for handling large integers (such as BigInteger). You must also not convert the inputs to integers directly.\n",
    "\n"
   ]
  },
  {
   "cell_type": "code",
   "execution_count": null,
   "id": "72002680-5171-4e33-a360-8fe5aac13cce",
   "metadata": {},
   "outputs": [],
   "source": [
    "def addStrings(num1, num2):\n",
    "    result = \"\"\n",
    "    i, j = len(num1) - 1, len(num2) - 1\n",
    "    carry = 0\n",
    "    while i >= 0 or j >= 0 or carry:\n",
    "        digit1 = int(num1[i]) if i >= 0 else 0\n",
    "        digit2 = int(num2[j]) if j >= 0 else 0\n",
    "        current_sum = digit1 + digit2 + carry\n",
    "        current_digit = current_sum % 10\n",
    "        carry = current_sum // 10\n",
    "        result = str(current_digit) + result\n",
    "        i -= 1\n",
    "        j -= 1\n",
    "    return result\n"
   ]
  },
  {
   "cell_type": "code",
   "execution_count": 13,
   "id": "5e0e231b-2dfb-48d4-8689-76e36b8ddd8a",
   "metadata": {},
   "outputs": [],
   "source": [
    "num1 = \"11\"\n",
    "num2 = \"123\""
   ]
  },
  {
   "cell_type": "code",
   "execution_count": 14,
   "id": "d2c64e33-1070-4fb2-bfc2-bc7b48591286",
   "metadata": {},
   "outputs": [
    {
     "data": {
      "text/plain": [
       "'134'"
      ]
     },
     "execution_count": 14,
     "metadata": {},
     "output_type": "execute_result"
    }
   ],
   "source": [
    "addStrings(num1,num2)"
   ]
  },
  {
   "cell_type": "markdown",
   "id": "849ebb20-f793-4db0-b57a-d145dff853bd",
   "metadata": {},
   "source": [
    "Q4-Given a string s, reverse the order of characters in each word within a sentence while still preserving whitespace and initial word order."
   ]
  },
  {
   "cell_type": "code",
   "execution_count": 15,
   "id": "3ca4c38f-281f-4d36-8c8d-66b7fd57aea7",
   "metadata": {},
   "outputs": [],
   "source": [
    "def reverse_words(s):\n",
    "    words = s.split()\n",
    "    reversed_words = [word[::-1] for word in words]\n",
    "    reversed_sentence = ' '.join(reversed_words)\n",
    "    return reversed_sentence\n",
    "\n"
   ]
  },
  {
   "cell_type": "code",
   "execution_count": 16,
   "id": "3f90cd04-2cd4-4ef5-994c-3df100706ad3",
   "metadata": {},
   "outputs": [],
   "source": [
    "s = \"Let's take LeetCode contest\""
   ]
  },
  {
   "cell_type": "code",
   "execution_count": 17,
   "id": "963acd31-f07b-4126-b8b6-4ea3a8720233",
   "metadata": {},
   "outputs": [
    {
     "data": {
      "text/plain": [
       "\"s'teL ekat edoCteeL tsetnoc\""
      ]
     },
     "execution_count": 17,
     "metadata": {},
     "output_type": "execute_result"
    }
   ],
   "source": [
    "reverse_words(s)"
   ]
  },
  {
   "cell_type": "markdown",
   "id": "18e3cf4e-55ad-44de-bcf6-7e4df044aadc",
   "metadata": {},
   "source": [
    "Q5-Given a string s and an integer k, reverse the first k characters for every 2k characters counting from the start of the string.\n",
    "If there are fewer than k characters left, reverse all of them. If there are less than 2k but greater than or equal to k characters, then reverse the first k characters and leave the other as original."
   ]
  },
  {
   "cell_type": "code",
   "execution_count": 18,
   "id": "71606aed-48a5-412d-b9aa-5d8f612044fb",
   "metadata": {},
   "outputs": [],
   "source": [
    "def reverse_string(s, k):\n",
    "    result = \"\"\n",
    "    n = len(s)\n",
    "    for i in range(0, n, 2*k):\n",
    "        result += s[i:i+k][::-1]\n",
    "        result += s[i+k:i+2*k]\n",
    "    return result\n"
   ]
  },
  {
   "cell_type": "code",
   "execution_count": 19,
   "id": "d5414ef2-acd0-4122-a171-afca84a8e577",
   "metadata": {},
   "outputs": [],
   "source": [
    "s = \"abcdefg\"\n",
    "k = 2"
   ]
  },
  {
   "cell_type": "code",
   "execution_count": 20,
   "id": "abd487e6-2567-4cdd-82db-275633d62068",
   "metadata": {},
   "outputs": [
    {
     "data": {
      "text/plain": [
       "'bacdfeg'"
      ]
     },
     "execution_count": 20,
     "metadata": {},
     "output_type": "execute_result"
    }
   ],
   "source": [
    "reverse_string(s,k)"
   ]
  },
  {
   "cell_type": "markdown",
   "id": "e293d6ec-2664-49a0-9fc7-1c1f1249a441",
   "metadata": {},
   "source": [
    "Q6-Given two strings s and goal, return true *if and only if* s *can become* goal *after some number of **shifts** on* s.\n",
    "\n",
    "A **shift** on s consists of moving the leftmost character of s to the rightmost position."
   ]
  },
  {
   "cell_type": "code",
   "execution_count": 21,
   "id": "94b7c9e2-17d9-4b53-a459-8fbc5b39f4c4",
   "metadata": {},
   "outputs": [],
   "source": [
    "def can_shift(s, goal):\n",
    "    if len(s) != len(goal):\n",
    "        return False\n",
    "    \n",
    "    s_shifted = s + s\n",
    "    \n",
    "    return goal in s_shifted\n"
   ]
  },
  {
   "cell_type": "code",
   "execution_count": 22,
   "id": "c0e448d2-8dba-4beb-a58c-bf59f93fc5fe",
   "metadata": {},
   "outputs": [],
   "source": [
    "s = \"abcde\"\n",
    "goal = \"cdeab\""
   ]
  },
  {
   "cell_type": "code",
   "execution_count": 23,
   "id": "cb73aeee-0a38-4e1c-8016-a6e8d29c72cb",
   "metadata": {},
   "outputs": [
    {
     "data": {
      "text/plain": [
       "True"
      ]
     },
     "execution_count": 23,
     "metadata": {},
     "output_type": "execute_result"
    }
   ],
   "source": [
    "can_shift(s,goal)"
   ]
  },
  {
   "cell_type": "markdown",
   "id": "861b1f69-dd00-4fdd-b2d8-be3f4a418f72",
   "metadata": {},
   "source": [
    "Question 7\n",
    "\n",
    "Given two strings s and t, return true *if they are equal when both are typed into empty text editors*. '#' means a backspace character.\n",
    "Note that after backspacing an empty text, the text will continue empty.\n"
   ]
  },
  {
   "cell_type": "code",
   "execution_count": 24,
   "id": "f484ce39-15c7-4852-85b4-d7f1b2434b54",
   "metadata": {},
   "outputs": [],
   "source": [
    "def is_equal_with_backspace(s, t):\n",
    "    stack_s = []\n",
    "    stack_t = []\n",
    "\n",
    "    for char in s:\n",
    "        if char != '#':\n",
    "            stack_s.append(char)\n",
    "        elif stack_s:\n",
    "            stack_s.pop()\n",
    "    for char in t:\n",
    "        if char != '#':\n",
    "            stack_t.append(char)\n",
    "        elif stack_t:\n",
    "            stack_t.pop()\n",
    "    return stack_s == stack_t\n"
   ]
  },
  {
   "cell_type": "code",
   "execution_count": 25,
   "id": "e4d52983-d434-4105-9fed-95681030c0c0",
   "metadata": {},
   "outputs": [],
   "source": [
    "s = \"ab#c\"\n",
    "t = \"ad#c\""
   ]
  },
  {
   "cell_type": "code",
   "execution_count": 26,
   "id": "3db0301c-1fd4-4c31-a130-4f9bed73e2ad",
   "metadata": {},
   "outputs": [
    {
     "data": {
      "text/plain": [
       "True"
      ]
     },
     "execution_count": 26,
     "metadata": {},
     "output_type": "execute_result"
    }
   ],
   "source": [
    "is_equal_with_backspace(s,t)"
   ]
  },
  {
   "cell_type": "markdown",
   "id": "ea60d476-e190-4564-b53c-bf0fd43ea01d",
   "metadata": {},
   "source": [
    "Q8-You are given an array coordinates, coordinates[i] = [x, y], where [x, y] represents the coordinate of a point. Check if these points make a straight line in the XY plane.\n"
   ]
  },
  {
   "cell_type": "code",
   "execution_count": 27,
   "id": "8cf46a3c-e9de-408b-874a-453ef24d4d2f",
   "metadata": {},
   "outputs": [],
   "source": [
    "def check_straight_line(coordinates):\n",
    "    if len(coordinates) < 3:\n",
    "        return True\n",
    "    slope = (coordinates[1][1] - coordinates[0][1]) / (coordinates[1][0] - coordinates[0][0])\n",
    "\n",
    "    for i in range(2, len(coordinates)):\n",
    "        current_slope = (coordinates[i][1] - coordinates[0][1]) / (coordinates[i][0] - coordinates[0][0])\n",
    "        if current_slope != slope:\n",
    "            return False\n",
    "    return True\n"
   ]
  },
  {
   "cell_type": "code",
   "execution_count": 28,
   "id": "166b6d92-5f87-4bdf-a7d8-27a603e31349",
   "metadata": {},
   "outputs": [],
   "source": [
    "coordinates = [[1,2],[2,3],[3,4],[4,5],[5,6],[6,7]]"
   ]
  },
  {
   "cell_type": "code",
   "execution_count": 29,
   "id": "277223d1-68a6-434d-9316-961b5d660c60",
   "metadata": {},
   "outputs": [
    {
     "data": {
      "text/plain": [
       "True"
      ]
     },
     "execution_count": 29,
     "metadata": {},
     "output_type": "execute_result"
    }
   ],
   "source": [
    "check_straight_line(coordinates)"
   ]
  },
  {
   "cell_type": "code",
   "execution_count": null,
   "id": "dbf6d08b-9861-4b83-9079-e656013b8450",
   "metadata": {},
   "outputs": [],
   "source": []
  }
 ],
 "metadata": {
  "kernelspec": {
   "display_name": "Python 3 (ipykernel)",
   "language": "python",
   "name": "python3"
  },
  "language_info": {
   "codemirror_mode": {
    "name": "ipython",
    "version": 3
   },
   "file_extension": ".py",
   "mimetype": "text/x-python",
   "name": "python",
   "nbconvert_exporter": "python",
   "pygments_lexer": "ipython3",
   "version": "3.10.8"
  }
 },
 "nbformat": 4,
 "nbformat_minor": 5
}
