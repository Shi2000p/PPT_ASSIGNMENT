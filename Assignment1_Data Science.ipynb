{
 "cells": [
  {
   "cell_type": "markdown",
   "id": "5aade056-6053-4c70-a3ee-d1841da81210",
   "metadata": {},
   "source": [
    "# 1. Write a Python program to reverse a string without using any built-in string reversal functions."
   ]
  },
  {
   "cell_type": "code",
   "execution_count": 1,
   "id": "d415bf22-35e4-4bdf-bc8c-f2765059b5b0",
   "metadata": {},
   "outputs": [],
   "source": [
    "s=\"pwskills\""
   ]
  },
  {
   "cell_type": "code",
   "execution_count": 2,
   "id": "e40be2a5-14f1-4595-beff-8468d1396ce0",
   "metadata": {},
   "outputs": [
    {
     "name": "stdout",
     "output_type": "stream",
     "text": [
      "The original string is : pwskills\n",
      "The reversed string(using loops) is : sllikswp\n"
     ]
    }
   ],
   "source": [
    "def reverse(s):\n",
    "\tstr = \"\"\n",
    "\tfor i in s:\n",
    "\t\tstr = i + str\n",
    "\treturn str\n",
    "\n",
    "s = \"pwskills\"\n",
    "\n",
    "print(\"The original string is : \", end=\"\")\n",
    "print(s)\n",
    "\n",
    "print(\"The reversed string(using loops) is : \", end=\"\")\n",
    "print(reverse(s))\n"
   ]
  },
  {
   "cell_type": "markdown",
   "id": "084f154e-1e89-4135-8c6f-c2a771b0e330",
   "metadata": {},
   "source": [
    "# 2. Implement a function to check if a given string is a palindrome."
   ]
  },
  {
   "cell_type": "code",
   "execution_count": 3,
   "id": "a73cb8a9-7b71-49cc-8e60-c635f636c220",
   "metadata": {},
   "outputs": [
    {
     "name": "stdout",
     "output_type": "stream",
     "text": [
      "True\n"
     ]
    }
   ],
   "source": [
    "a_string = 'abbabba'\n",
    "\n",
    "def palindrome(a_string):\n",
    "    a_string = a_string.lower().replace(' ', '')\n",
    "    return a_string == a_string[::-1]\n",
    "\n",
    "print(palindrome(a_string))"
   ]
  },
  {
   "cell_type": "markdown",
   "id": "f17a2075-9888-48cf-a5df-2b918b9952c8",
   "metadata": {},
   "source": [
    "# 3. Write a program to find the largest element in a given list."
   ]
  },
  {
   "cell_type": "code",
   "execution_count": 4,
   "id": "6bdbf2b3-4e6c-4588-a03c-98f292bd0141",
   "metadata": {},
   "outputs": [
    {
     "name": "stdout",
     "output_type": "stream",
     "text": [
      "Largest element is: 99\n"
     ]
    }
   ],
   "source": [
    "\n",
    "def myMax(list1):\n",
    "\n",
    "\t\n",
    "\tmax = list1[0]\n",
    "\n",
    "\tfor x in list1:\n",
    "\t\tif x > max:\n",
    "\t\t\tmax = x\n",
    "\n",
    "\t\n",
    "\treturn max\n",
    "\n",
    "\n",
    "# Driver code\n",
    "list1 = [10, 20, 4, 45, 99]\n",
    "print(\"Largest element is:\", myMax(list1))\n"
   ]
  },
  {
   "cell_type": "markdown",
   "id": "e964fcf2-dda8-4da7-9353-0ba0fea10060",
   "metadata": {},
   "source": [
    "# 4. Implement a function to count the occurrence of each element in a list."
   ]
  },
  {
   "cell_type": "code",
   "execution_count": 5,
   "id": "6f5d8b20-acc8-49d5-81a4-0ac3f900dd2c",
   "metadata": {},
   "outputs": [
    {
     "name": "stdout",
     "output_type": "stream",
     "text": [
      "8 has occurred 5 times\n"
     ]
    }
   ],
   "source": [
    "def count(lst, x):\n",
    "\tcount = 0\n",
    "\tfor i in lst:\n",
    "\t\tif (i == x):\n",
    "\t\t\tcount = count + 1\n",
    "\treturn count\n",
    "\n",
    "\n",
    "# Driver Code\n",
    "lst = [8, 6, 8, 10, 8, 20, 10, 8, 8]\n",
    "x = 8\n",
    "print('{} has occurred {} times'.format(x,\n",
    "\t\t\t\t\t\t\t\t\t\tcount(lst, x)))\n"
   ]
  },
  {
   "cell_type": "markdown",
   "id": "85d08927-222d-4032-976e-78bd7c5007ef",
   "metadata": {},
   "source": [
    "# 5. Write a Python program to find the second largest number in a list."
   ]
  },
  {
   "cell_type": "code",
   "execution_count": 6,
   "id": "80685243-08ea-479a-a2f0-21620c4de67d",
   "metadata": {},
   "outputs": [
    {
     "name": "stdout",
     "output_type": "stream",
     "text": [
      "Second highest number is :  45\n"
     ]
    }
   ],
   "source": [
    "list1 = [10, 20, 4, 45, 99]\n",
    "\n",
    "mx = max(list1[0], list1[1])\n",
    "secondmax = min(list1[0], list1[1])\n",
    "n = len(list1)\n",
    "for i in range(2,n):\n",
    "\tif list1[i] > mx:\n",
    "\t\tsecondmax = mx\n",
    "\t\tmx = list1[i]\n",
    "\telif list1[i] > secondmax and \\\n",
    "\t\tmx != list1[i]:\n",
    "\t\tsecondmax = list1[i]\n",
    "\telif mx == secondmax and \\\n",
    "\t\tsecondmax != list1[i]:\n",
    "\t\tsecondmax = list1[i]\n",
    "\n",
    "print(\"Second highest number is : \",\\\n",
    "\tstr(secondmax))\n"
   ]
  },
  {
   "cell_type": "markdown",
   "id": "a1213d1f-085c-4690-b4c7-2dac59dc675c",
   "metadata": {},
   "source": [
    "# 6. Implement a function to remove duplicate elements from a list."
   ]
  },
  {
   "cell_type": "code",
   "execution_count": 7,
   "id": "8e055f82-e12d-41ef-b150-93a6c30f04ab",
   "metadata": {},
   "outputs": [
    {
     "name": "stdout",
     "output_type": "stream",
     "text": [
      "[2, 4, 10, 20, 5]\n"
     ]
    }
   ],
   "source": [
    "def Remove(duplicate):\n",
    "\tfinal_list = []\n",
    "\tfor num in duplicate:\n",
    "\t\tif num not in final_list:\n",
    "\t\t\tfinal_list.append(num)\n",
    "\treturn final_list\n",
    "\t\n",
    "# Driver Code\n",
    "duplicate = [2, 4, 10, 20, 5, 2, 20, 4]\n",
    "print(Remove(duplicate))\n"
   ]
  },
  {
   "cell_type": "markdown",
   "id": "47f3730d-fa51-4a26-adfe-5c3d0ff96e9f",
   "metadata": {},
   "source": [
    "# 7. Write a program to calculate the factorial of a given number."
   ]
  },
  {
   "cell_type": "code",
   "execution_count": 8,
   "id": "4a37b9bf-2c4a-4a6a-a2bb-0b897e8d0a81",
   "metadata": {},
   "outputs": [
    {
     "name": "stdout",
     "output_type": "stream",
     "text": [
      "Factorial of 5 is 120\n"
     ]
    }
   ],
   "source": [
    "def factorial(n):\n",
    "\t\n",
    "\tif n == 0:\n",
    "\t\treturn 1\n",
    "\t\n",
    "\treturn n * factorial(n-1)\n",
    "\n",
    "# Driver Code\n",
    "num = 5;\n",
    "print(\"Factorial of\", num, \"is\",\n",
    "factorial(num))"
   ]
  },
  {
   "cell_type": "markdown",
   "id": "44689b52-8c9f-418d-91b5-3f84d6dca5ad",
   "metadata": {},
   "source": [
    "# 8. Implement a function to check if a given number is prime."
   ]
  },
  {
   "cell_type": "code",
   "execution_count": 9,
   "id": "5c5f1e46-9d4d-407a-8aad-87917531546d",
   "metadata": {},
   "outputs": [
    {
     "name": "stdout",
     "output_type": "stream",
     "text": [
      "false\n"
     ]
    }
   ],
   "source": [
    "def isPrime(n, i):\n",
    "\tif (n == 0 or n == 1):\n",
    "\t\treturn False\n",
    "\n",
    "\tif (n == i):\n",
    "\t\treturn True\n",
    "\n",
    "\tif (n % i == 0):\n",
    "\t\treturn False\n",
    "\n",
    "\ti += 1\n",
    "\n",
    "\treturn isPrime(n, i)\n",
    "\n",
    "\n",
    "# Driver Code\n",
    "if (isPrime(35, 2)):\n",
    "\tprint(\"true\")\n",
    "else:\n",
    "\tprint(\"false\")"
   ]
  },
  {
   "cell_type": "markdown",
   "id": "6f52fb60-6efb-437b-a4d2-2fdbcb6917f1",
   "metadata": {},
   "source": [
    "# 9. Write a Python program to sort a list of integers in ascending order."
   ]
  },
  {
   "cell_type": "code",
   "execution_count": 10,
   "id": "ad77be27-7262-4c18-8949-f591491c94d6",
   "metadata": {},
   "outputs": [
    {
     "name": "stdout",
     "output_type": "stream",
     "text": [
      "[1, 2, 3, 4]\n"
     ]
    }
   ],
   "source": [
    "numbers = [1, 3, 4, 2]\n",
    "numbers.sort() \n",
    "print(numbers)"
   ]
  },
  {
   "cell_type": "code",
   "execution_count": 11,
   "id": "8d7cd7d4-f8e4-4218-a092-92490f59c95f",
   "metadata": {},
   "outputs": [
    {
     "name": "stdout",
     "output_type": "stream",
     "text": [
      "['code', 'geeks', 'ide', 'practice']\n"
     ]
    }
   ],
   "source": [
    "strs = [\"geeks\", \"code\", \"ide\", \"practice\"]\n",
    "strs.sort()\n",
    "print(strs)\n"
   ]
  },
  {
   "cell_type": "markdown",
   "id": "61051863-3355-4967-824a-2147566a98c4",
   "metadata": {},
   "source": [
    "# 10. Implement a function to find the sum of all numbers in a list."
   ]
  },
  {
   "cell_type": "code",
   "execution_count": 12,
   "id": "231dc5cc-e1aa-49a0-ab59-991bf7d09c51",
   "metadata": {},
   "outputs": [
    {
     "name": "stdout",
     "output_type": "stream",
     "text": [
      "Sum of all elements in given list:  74\n"
     ]
    }
   ],
   "source": [
    "total = 0\n",
    "list1 = [11, 5, 17, 18, 23]\n",
    "\n",
    "for ele in range(0, len(list1)):\n",
    "\ttotal = total + list1[ele]\n",
    "print(\"Sum of all elements in given list: \", total)\n"
   ]
  },
  {
   "cell_type": "markdown",
   "id": "55941cb7-8f20-4739-ad38-0a6cebe23266",
   "metadata": {},
   "source": [
    "# 11. Write a program to find the common elements between two lists"
   ]
  },
  {
   "cell_type": "code",
   "execution_count": 13,
   "id": "2ce824d7-50db-4b9d-b19a-f9dfb6e9ce2c",
   "metadata": {},
   "outputs": [
    {
     "name": "stdout",
     "output_type": "stream",
     "text": [
      "{15}\n",
      "No common elements\n"
     ]
    }
   ],
   "source": [
    "def common_num(x, y):\n",
    "\tx_set = set(x)\n",
    "\ty_set = set(y)\n",
    "\n",
    "\tif (x_set & y_set):\n",
    "\t\tprint(x_set & y_set)\n",
    "\telse:\n",
    "\t\tprint(\"No common elements\")\n",
    "\t\t\n",
    "\n",
    "x = [11, 12, 13, 14, 15]\n",
    "y = [15, 16, 17, 18, 19]\n",
    "common_num(x, y)\n",
    "\n",
    "x = [1, 2, 3, 4, 5]\n",
    "y = [6, 7, 8, 9]\n",
    "common_num(x, y)\n"
   ]
  },
  {
   "cell_type": "markdown",
   "id": "44f61910-207b-4b7f-87dd-bb6445fe4a88",
   "metadata": {},
   "source": [
    "# 12. Implement a function to check if a given string is an anagram of another string."
   ]
  },
  {
   "cell_type": "code",
   "execution_count": 14,
   "id": "8911809a-56ff-4204-8829-00b221b0e585",
   "metadata": {},
   "outputs": [
    {
     "name": "stdout",
     "output_type": "stream",
     "text": [
      "The strings aren't anagrams.\n"
     ]
    }
   ],
   "source": [
    "def check(s1, s2):\n",
    "\t\n",
    "\tif(sorted(s1)== sorted(s2)):\n",
    "\t\tprint(\"The strings are anagrams.\")\n",
    "\telse:\n",
    "\t\tprint(\"The strings aren't anagrams.\")\t\t\n",
    "\t\t\n",
    "# driver code\n",
    "s1 =\"raam\"\n",
    "s2 =\"aam\"\n",
    "check(s1, s2)\n"
   ]
  },
  {
   "cell_type": "markdown",
   "id": "b1e409b8-986f-47b1-91a8-6bc2f6e65fd2",
   "metadata": {},
   "source": [
    "# 13. Write a Python program to generate all permutations of a given string."
   ]
  },
  {
   "cell_type": "code",
   "execution_count": 15,
   "id": "ef2b3844-9d4b-4141-9165-053695728492",
   "metadata": {},
   "outputs": [
    {
     "name": "stdout",
     "output_type": "stream",
     "text": [
      "['xyz', 'xzy', 'yxz', 'yzx', 'zxy', 'zyx']\n"
     ]
    }
   ],
   "source": [
    "def find_permutations(s):\n",
    "\tif len(s) == 1:\n",
    "\t\treturn [s]\n",
    "\telse:\n",
    "\t\tperms = []\n",
    "\t\tfor i, c in enumerate(s):\n",
    "\t\t\tfor perm in find_permutations(s[:i] + s[i+1:]):\n",
    "\t\t\t\tperms.append(c + perm)\n",
    "\t\treturn perms\n",
    "\n",
    "s = 'xyz'\n",
    "print(find_permutations(s))\n"
   ]
  },
  {
   "cell_type": "markdown",
   "id": "b975d4d8-1f0c-44e6-a0f8-37df49697af5",
   "metadata": {},
   "source": [
    "# 14. Implement a function to calculate the Fibonacci sequence up to a given number of terms."
   ]
  },
  {
   "cell_type": "code",
   "execution_count": 16,
   "id": "e5a12688-f6c4-474e-8deb-4c6e0ccfd07a",
   "metadata": {},
   "outputs": [
    {
     "name": "stdout",
     "output_type": "stream",
     "text": [
      "34\n"
     ]
    }
   ],
   "source": [
    "def fibonacci(n):\n",
    "\ta = 0\n",
    "\tb = 1\n",
    "\tif n < 0:\n",
    "\t\tprint(\"Incorrect input\")\n",
    "\telif n == 0:\n",
    "\t\treturn a\n",
    "\telif n == 1:\n",
    "\t\treturn b\n",
    "\telse:\n",
    "\t\tfor i in range(2, n+1):\n",
    "\t\t\tc = a + b\n",
    "\t\t\ta = b\n",
    "\t\t\tb = c\n",
    "\t\treturn b\n",
    "\n",
    "# Driver Program\n",
    "\n",
    "\n",
    "print(fibonacci(9))\n"
   ]
  },
  {
   "cell_type": "markdown",
   "id": "6a42ce21-24bd-44b0-b89d-6c5cdebe2e04",
   "metadata": {},
   "source": [
    "# 15. Write a program to find the median of a list of numbers."
   ]
  },
  {
   "cell_type": "code",
   "execution_count": 17,
   "id": "03ffdef5-0f9e-4b97-9627-a066885a7221",
   "metadata": {},
   "outputs": [
    {
     "name": "stdout",
     "output_type": "stream",
     "text": [
      "The original list : [4, 5, 8, 9, 10, 17]\n",
      "Median of list is : 8.5\n"
     ]
    }
   ],
   "source": [
    "test_list = [4, 5, 8, 9, 10, 17]\n",
    "\n",
    "print(\"The original list : \" + str(test_list))\n",
    "\n",
    "test_list.sort()\n",
    "mid = len(test_list) // 2\n",
    "res = (test_list[mid] + test_list[~mid]) / 2\n",
    "\n",
    "# Printing result\n",
    "print(\"Median of list is : \" + str(res))\n"
   ]
  },
  {
   "cell_type": "markdown",
   "id": "1da65212-ef9c-41f3-96a3-a0b1716d9898",
   "metadata": {},
   "source": [
    "# 16. Implement a function to check if a given list is sorted in non-decreasing order."
   ]
  },
  {
   "cell_type": "code",
   "execution_count": 18,
   "id": "bff40d46-37ad-4bae-bdeb-1700c56cedbc",
   "metadata": {},
   "outputs": [
    {
     "name": "stdout",
     "output_type": "stream",
     "text": [
      "Original list : [1, 4, 5, 8, 10]\n",
      "Yes, List is sorted.\n"
     ]
    }
   ],
   "source": [
    "test_list = [1, 4, 5, 8, 10]\n",
    "\n",
    "print (\"Original list : \" + str(test_list))\n",
    "\n",
    "flag = 0\n",
    "i = 1\n",
    "while i < len(test_list):\n",
    "\tif(test_list[i] < test_list[i - 1]):\n",
    "\t\tflag = 1\n",
    "\ti += 1\n",
    "\t\n",
    "# printing result\n",
    "if (not flag) :\n",
    "\tprint (\"Yes, List is sorted.\")\n",
    "else :\n",
    "\tprint (\"No, List is not sorted.\")\n"
   ]
  },
  {
   "cell_type": "markdown",
   "id": "fcff7d51-0523-44df-bc5d-86f04638400d",
   "metadata": {},
   "source": [
    "# 17. Write a Python program to find the intersection of two lists."
   ]
  },
  {
   "cell_type": "code",
   "execution_count": 19,
   "id": "01b9321e-5f07-4621-aef0-e1952f0915f8",
   "metadata": {},
   "outputs": [
    {
     "name": "stdout",
     "output_type": "stream",
     "text": [
      "[9, 11, 26, 28]\n"
     ]
    }
   ],
   "source": [
    "def intersection(lst1, lst2):\n",
    "\tlst3 = [value for value in lst1 if value in lst2]\n",
    "\treturn lst3\n",
    "\n",
    "# Driver Code\n",
    "lst1 = [4, 9, 1, 17, 11, 26, 28, 54, 69]\n",
    "lst2 = [9, 9, 74, 21, 45, 11, 63, 28, 26]\n",
    "print(intersection(lst1, lst2))\n"
   ]
  },
  {
   "cell_type": "markdown",
   "id": "1062a25d-9a4b-4688-b5d9-8e337848bb49",
   "metadata": {},
   "source": [
    "# 18. Implement a function to find the maximum subarray sum in a given list."
   ]
  },
  {
   "cell_type": "code",
   "execution_count": 20,
   "id": "ddc615d7-8c95-4bbb-8c2f-58c824a1bda4",
   "metadata": {},
   "outputs": [
    {
     "name": "stdout",
     "output_type": "stream",
     "text": [
      "6 -2 -3 1 5 "
     ]
    }
   ],
   "source": [
    "def SubarrayWithMaxSum(nums):\n",
    "\t\n",
    "\tcurrMax = nums[0]\n",
    "\tglobalMax = nums[0]\n",
    "\n",
    "\tfor i in range(1, len(nums)):\n",
    "\n",
    "\t\tcurrMax = max(nums[i],\n",
    "\t\t\t\t\tnums[i] + currMax)\n",
    "\n",
    "\t\tif (currMax > globalMax):\n",
    "\t\t\tglobalMax = currMax\n",
    "\t\t\tendIndex = i\n",
    "\t\n",
    "\tstartIndex = endIndex\n",
    "\twhile (startIndex >= 0):\n",
    "\t\tglobalMax -= nums[startIndex]\n",
    "\n",
    "\t\tif (globalMax == 0):\n",
    "\t\t\tbreak\n",
    "\n",
    "\t\tstartIndex -= 1\n",
    "\t\n",
    "\tfor i in range(startIndex, endIndex + 1):\n",
    "\t\tprint(nums[i], end = \" \")\n",
    "\t\n",
    "# Driver code\n",
    "arr = [ -2, -5, 6, -2,\n",
    "\t\t-3, 1, 5, -6 ]\n",
    "\n",
    "SubarrayWithMaxSum(arr)"
   ]
  },
  {
   "cell_type": "markdown",
   "id": "cc0a62ce-283e-4cca-a827-18cbf2bebf1c",
   "metadata": {},
   "source": [
    "# 19. Write a program to remove all vowels from a given string."
   ]
  },
  {
   "cell_type": "code",
   "execution_count": 21,
   "id": "03d74de3-4006-4cb0-a191-7521437c1c0a",
   "metadata": {},
   "outputs": [
    {
     "name": "stdout",
     "output_type": "stream",
     "text": [
      "  wnt t lrn dtscnc mstr \n",
      "mngpplpnppl\n"
     ]
    }
   ],
   "source": [
    "def rem_vowel(string):\n",
    "\tvowels = ['a','e','i','o','u']\n",
    "\tresult = [letter for letter in string if letter.lower() not in vowels]\n",
    "\tresult = ''.join(result)\n",
    "\tprint(result)\n",
    "\n",
    "# Driver program\n",
    "string = \" I want to learn datascience master \"\n",
    "rem_vowel(string)\n",
    "string = \"mangoapplepineapple\"\n",
    "rem_vowel(string)\n"
   ]
  },
  {
   "cell_type": "markdown",
   "id": "6044c2c2-33e7-4c17-bdd7-37f1a7b8f157",
   "metadata": {},
   "source": [
    "# 20. Implement a function to reverse the order of words in a given sentence."
   ]
  },
  {
   "cell_type": "code",
   "execution_count": 22,
   "id": "a474ebf3-b897-45aa-9145-7e0ecb523036",
   "metadata": {},
   "outputs": [
    {
     "name": "stdout",
     "output_type": "stream",
     "text": [
      "much very program this like i\n"
     ]
    }
   ],
   "source": [
    "def reverse_word(s, start, end):\n",
    "\twhile start < end:\n",
    "\t\ts[start], s[end] = s[end], s[start]\n",
    "\t\tstart = start + 1\n",
    "\t\tend -= 1\n",
    "\n",
    "\n",
    "s = \"i like this program very much\"\n",
    "\n",
    "s = list(s)\n",
    "start = 0\n",
    "while True:\n",
    "\n",
    "\ttry:\n",
    "\t\n",
    "\t\tend = s.index(' ', start)\n",
    "\t\treverse_word(s, start, end - 1)\n",
    "\n",
    "\t\tstart = end + 1\n",
    "\n",
    "\texcept ValueError:\n",
    "\n",
    "\t\treverse_word(s, start, len(s) - 1)\n",
    "\t\tbreak\n",
    "\n",
    "s.reverse()\n",
    "\n",
    "s = \"\".join(s)\n",
    "\n",
    "print(s)"
   ]
  },
  {
   "cell_type": "markdown",
   "id": "9810e184-13b3-431f-b369-27d1c119f0b3",
   "metadata": {},
   "source": [
    "# 22. Implement a function to find the first non-repeating character in a string."
   ]
  },
  {
   "cell_type": "code",
   "execution_count": 26,
   "id": "75b40af0-ead0-4bbf-b4c3-0843053d78e2",
   "metadata": {},
   "outputs": [
    {
     "name": "stdout",
     "output_type": "stream",
     "text": [
      "First non-repeating character is a\n"
     ]
    }
   ],
   "source": [
    "def first_Non_Repeat_char(s):\n",
    "    for i in s:\n",
    "        if (s.find(i, (s.find(i)+1))) == -1:\n",
    "            print(\"First non-repeating character is\", i)\n",
    "            \n",
    "            break\n",
    "            return\n",
    "\n",
    "# __main__\n",
    "\n",
    "\n",
    "s = 'all is well'\n",
    "\n",
    "first_Non_Repeat_char(s)\n"
   ]
  },
  {
   "cell_type": "markdown",
   "id": "87319107-7a38-4110-9709-38e0b4f22964",
   "metadata": {},
   "source": [
    "# 23. Write a program to find the prime factors of a given number."
   ]
  },
  {
   "cell_type": "code",
   "execution_count": 30,
   "id": "627ea7e8-830a-4f29-a406-cf2f9bede555",
   "metadata": {},
   "outputs": [
    {
     "name": "stdout",
     "output_type": "stream",
     "text": [
      "Prime factors of 20 are {2, 5}\n",
      "Prime factors of 1260 are {2, 3, 5, 7}\n"
     ]
    }
   ],
   "source": [
    "def calculate_prime_factors(N):\n",
    "    prime_factors = set()\n",
    "    if N % 2 == 0:\n",
    "        prime_factors.add(2)\n",
    "    while N % 2 == 0:\n",
    "        N = N // 2\n",
    "        if N == 1:\n",
    "            return prime_factors\n",
    "    for factor in range(3, N + 1, 2):\n",
    "        if N % factor == 0:\n",
    "            prime_factors.add(factor)\n",
    "            while N % factor == 0:\n",
    "                N = N // factor\n",
    "                if N == 1:\n",
    "                    return prime_factors\n",
    "\n",
    "\n",
    "input_number = 20\n",
    "output = calculate_prime_factors(input_number)\n",
    "print(\"Prime factors of {} are {}\".format(input_number, output))\n",
    "input_number = 1260\n",
    "output = calculate_prime_factors(input_number)\n",
    "print(\"Prime factors of {} are {}\".format(input_number, output))"
   ]
  },
  {
   "cell_type": "markdown",
   "id": "0a36d0a3-96be-4a76-be50-a63bcd988efb",
   "metadata": {},
   "source": [
    "# 24. Implement a function to check if a given number is a power of two."
   ]
  },
  {
   "cell_type": "code",
   "execution_count": 31,
   "id": "bb7497e8-98a7-4950-9ae7-fddd5d51e1d8",
   "metadata": {},
   "outputs": [
    {
     "name": "stdout",
     "output_type": "stream",
     "text": [
      "No\n",
      "Yes\n"
     ]
    }
   ],
   "source": [
    "def isPowerOfTwo(n):\n",
    "\tif (n == 0):\n",
    "\t\treturn False\n",
    "\twhile (n != 1):\n",
    "\t\tif (n % 2 != 0):\n",
    "\t\t\treturn False\n",
    "\t\tn = n // 2\n",
    "\n",
    "\treturn True\n",
    "\n",
    "\n",
    "# Driver code\n",
    "if __name__ == \"__main__\":\n",
    "\n",
    "\t# Function call\n",
    "\tif(isPowerOfTwo(31)):\n",
    "\t\tprint('Yes')\n",
    "\telse:\n",
    "\t\tprint('No')\n",
    "\tif(isPowerOfTwo(64)):\n",
    "\t\tprint('Yes')\n",
    "\telse:\n",
    "\t\tprint('No')"
   ]
  },
  {
   "cell_type": "markdown",
   "id": "bf4cc35e-0809-4700-84f4-4fdd0217580c",
   "metadata": {},
   "source": [
    "# 25. Write a Python program to merge two sorted lists into a single sorted list.\n"
   ]
  },
  {
   "cell_type": "code",
   "execution_count": 34,
   "id": "b7724afd-516f-4318-a47b-9f62dcb11ee9",
   "metadata": {},
   "outputs": [
    {
     "name": "stdout",
     "output_type": "stream",
     "text": [
      "The original list 1 is : [11, 15, 16, 19, 14]\n",
      "The original list 2 is : [32, 14, 37, 28, 15]\n",
      "The combined sorted list is : [11, 15, 16, 19, 14, 32, 14, 37, 28, 15]\n"
     ]
    }
   ],
   "source": [
    "l1 = [11, 15, 16, 19, 14]\n",
    "l2 = [32, 14, 37, 28, 15]\n",
    "\n",
    "print(\"The original list 1 is : \" + str(l1))\n",
    "print(\"The original list 2 is : \" + str(l2))\n",
    "\n",
    "size_1 = len(l1)\n",
    "size_2 = len(l2)\n",
    "\n",
    "res = []\n",
    "i, j = 0, 0\n",
    "\n",
    "while i < size_1 and j < size_2:\n",
    "\tif l1[i] < l2[j]:\n",
    "\t\tres.append(l1[i])\n",
    "\t\ti += 1\n",
    "\n",
    "\telse:\n",
    "\t\tres.append(l2[j])\n",
    "\t\tj += 1\n",
    "\n",
    "res = res + l1[i:] +l2[j:]\n",
    "\n",
    "# printing result\n",
    "print(\"The combined sorted list is : \" + str(res))\n"
   ]
  },
  {
   "cell_type": "markdown",
   "id": "a6453e99-2118-45cc-adc9-f3246db6c34f",
   "metadata": {},
   "source": [
    "# 26. Implement a function to find the mode of a list of numbers."
   ]
  },
  {
   "cell_type": "code",
   "execution_count": 37,
   "id": "98081cee-fec8-46fd-8009-8eecfb03210e",
   "metadata": {},
   "outputs": [
    {
     "name": "stdout",
     "output_type": "stream",
     "text": [
      "[1, 3]\n"
     ]
    }
   ],
   "source": [
    "L1 = [1, 1, 2, 3, 3, 4, 5] \n",
    "\n",
    "from collections import Counter \n",
    "\n",
    "counter = Counter (L1) \n",
    "\n",
    "maxcount = max (counter.values ()) \n",
    "\n",
    "mode = [k for k,v in counter.items () if v == max_count]\n",
    "\n",
    "print(mode)"
   ]
  },
  {
   "cell_type": "markdown",
   "id": "33421c2b-a627-4619-bb5e-170c4ca44806",
   "metadata": {},
   "source": [
    "# 27. Write a program to find the greatest common divisor (GCD) of two numbers."
   ]
  },
  {
   "cell_type": "code",
   "execution_count": 39,
   "id": "ae23c7fd-c535-4c04-a9b6-e9824e65df8c",
   "metadata": {},
   "outputs": [
    {
     "name": "stdout",
     "output_type": "stream",
     "text": [
      "The gcd of 25 and 65 is : 5\n"
     ]
    }
   ],
   "source": [
    "def gcd(a, b):\n",
    "\tif(b == 0):\n",
    "\t\treturn a\n",
    "\telse:\n",
    "\t\treturn gcd(b, a % b)\n",
    "\n",
    "a = 25\n",
    "b = 65\n",
    "\n",
    "print(\"The gcd of 25 and 65 is : \", end=\"\")\n",
    "print(gcd(25, 65))\n"
   ]
  },
  {
   "cell_type": "markdown",
   "id": "604d8371-32ee-4ea8-a6c3-026240ab321e",
   "metadata": {},
   "source": [
    "# 28. Implement a function to calculate the square root of a given number."
   ]
  },
  {
   "cell_type": "code",
   "execution_count": 41,
   "id": "c5537ce8-3f73-4069-8a68-d6c293422afc",
   "metadata": {},
   "outputs": [
    {
     "name": "stdout",
     "output_type": "stream",
     "text": [
      "9\n"
     ]
    }
   ],
   "source": [
    "def Sqrt(x):\n",
    "    \n",
    "\tif (x == 0 or x == 1):\n",
    "\t\treturn x\n",
    "\n",
    "\ti = 1\n",
    "\tresult = 1\n",
    "\twhile (result <= x):\n",
    "\n",
    "\t\ti += 1\n",
    "\t\tresult = i * i\n",
    "\n",
    "\treturn i - 1\n",
    "\n",
    "\n",
    "# Driver Code\n",
    "x = 81\n",
    "print(Sqrt(x))"
   ]
  },
  {
   "cell_type": "markdown",
   "id": "729bcfc4-bd8e-4cd2-b215-7db3eda92b46",
   "metadata": {},
   "source": [
    "# 29. Write a Python program to check if a given string is a valid palindrome ignoring non-alphanumeric characters.\n"
   ]
  },
  {
   "cell_type": "code",
   "execution_count": 43,
   "id": "f1e7258f-641c-40ab-a4b1-9911e54104cb",
   "metadata": {},
   "outputs": [
    {
     "name": "stdout",
     "output_type": "stream",
     "text": [
      "Yes\n"
     ]
    }
   ],
   "source": [
    "def isPalin(str):\n",
    "\tfor i in range(0, int(len(str)/2)):\n",
    "\t\tif str[i] != str[len(str)-i-1]:\n",
    "\t\t\treturn False\n",
    "\treturn True\n",
    "\n",
    "s = \"aturuta\"\n",
    "ans = isPalin(s)\n",
    "\n",
    "if (ans):\n",
    "\tprint(\"Yes\")\n",
    "else:\n",
    "\tprint(\"No\")\n"
   ]
  },
  {
   "cell_type": "markdown",
   "id": "72bdd76d-8bd8-483d-a33e-b896d4dce93d",
   "metadata": {},
   "source": [
    "# 30. Implement a function to find the minimum element in a rotated sorted list"
   ]
  },
  {
   "cell_type": "code",
   "execution_count": 44,
   "id": "79a1dee0-e4c2-411f-bc27-6ac9f88bbadb",
   "metadata": {},
   "outputs": [
    {
     "name": "stdout",
     "output_type": "stream",
     "text": [
      "1\n"
     ]
    }
   ],
   "source": [
    "def findMin(arr, N):\n",
    "\t\n",
    "\tmin_ele = arr[0];\n",
    "\n",
    "\tfor i in range(N) :\n",
    "\t\tif arr[i] < min_ele :\n",
    "\t\t\tmin_ele = arr[i]\n",
    "\n",
    "\treturn min_ele;\n",
    "\n",
    "# Driver program\n",
    "arr = [5, 6, 1, 2, 3, 4]\n",
    "N = len(arr)\n",
    "\n",
    "print(findMin(arr,N))"
   ]
  },
  {
   "cell_type": "markdown",
   "id": "9aa490b9-a426-46c8-b184-17c2859e3bbf",
   "metadata": {},
   "source": [
    "# 31. Write a program to find the sum of all even numbers in a list."
   ]
  },
  {
   "cell_type": "code",
   "execution_count": 2,
   "id": "563c8e84-0615-4d74-ada7-410c33392b0c",
   "metadata": {},
   "outputs": [
    {
     "name": "stdout",
     "output_type": "stream",
     "text": [
      "Sum of even numbers at even indices is 30\n"
     ]
    }
   ],
   "source": [
    "def sum_even(arr):\n",
    "\tmp = {}\n",
    "\tsum = 0\n",
    "\tfor i in range(0, len(arr), 2):\n",
    "\t\tif arr[i] % 2 == 0:\n",
    "\t\t\tmp[i] = arr[i] \n",
    "\tfor key, value in mp.items():\n",
    "\t\tsum += value \n",
    "\treturn sum\n",
    "\n",
    "# Driver program to test above\n",
    "arr = [5, 6, 12, 1, 18, 8]\n",
    "print(\"Sum of even numbers at even indices is\", sum_even(arr))"
   ]
  },
  {
   "cell_type": "markdown",
   "id": "95b10631-9f7c-4e10-b0f9-b076708dcb2d",
   "metadata": {},
   "source": [
    "# 32. Implement a function to calculate the power of a number using recursion."
   ]
  },
  {
   "cell_type": "code",
   "execution_count": 5,
   "id": "bc9dc39e-7702-4fdb-bf26-24c72597f95c",
   "metadata": {},
   "outputs": [
    {
     "name": "stdout",
     "output_type": "stream",
     "text": [
      "25\n"
     ]
    }
   ],
   "source": [
    "def power(N, P):\n",
    "\n",
    "\tif P == 0:\n",
    "\t\treturn 1\n",
    "\n",
    "\treturn (N*power(N, P-1))\n",
    "\n",
    "\n",
    "# Driver code\n",
    "if __name__ == '__main__':\n",
    "\tN = 5\n",
    "\tP = 2\n",
    "\n",
    "\tprint(power(N, P))\n"
   ]
  },
  {
   "cell_type": "markdown",
   "id": "c578f6cf-4baf-428b-9364-d3a3ef3d58e3",
   "metadata": {},
   "source": [
    "# 33. Write a Python program to remove duplicates from a list while preserving the order."
   ]
  },
  {
   "cell_type": "code",
   "execution_count": 6,
   "id": "c21ed65b-84b2-415e-8476-73241b850400",
   "metadata": {},
   "outputs": [
    {
     "name": "stdout",
     "output_type": "stream",
     "text": [
      "[2, 4, 10, 20, 5]\n"
     ]
    }
   ],
   "source": [
    "def Remove(duplicate):\n",
    "\tfinal_list = []\n",
    "\tfor num in duplicate:\n",
    "\t\tif num not in final_list:\n",
    "\t\t\tfinal_list.append(num)\n",
    "\treturn final_list\n",
    "\t\n",
    "# Driver Code\n",
    "duplicate = [2, 4, 10, 20, 5, 2, 20, 4]\n",
    "print(Remove(duplicate))\n"
   ]
  },
  {
   "cell_type": "markdown",
   "id": "eb2aab5e-04f0-48af-854b-28f654e9be87",
   "metadata": {},
   "source": [
    "# 35. Write a program to check if a given number is a perfect square.\n"
   ]
  },
  {
   "cell_type": "code",
   "execution_count": 9,
   "id": "5130bdde-1b03-4136-9294-ed2957258d50",
   "metadata": {},
   "outputs": [
    {
     "name": "stdout",
     "output_type": "stream",
     "text": [
      "No\n"
     ]
    }
   ],
   "source": [
    "import math\n",
    "\n",
    "\n",
    "def isPerfectSquare(x):\n",
    "\n",
    "\tif(x >= 0):\n",
    "\t\tsr = int(math.sqrt(x))\n",
    "\t\treturn ((sr*sr) == x)\n",
    "\treturn false\n",
    "\n",
    "# Driver code\n",
    "\n",
    "\n",
    "x = 2502\n",
    "if (isPerfectSquare(x)):\n",
    "\tprint(\"Yes\")\n",
    "else:\n",
    "\tprint(\"No\")\n"
   ]
  },
  {
   "cell_type": "markdown",
   "id": "29422c85-baa7-47ac-a90b-79444e1f6edd",
   "metadata": {},
   "source": [
    "# 36. Implement a function to calculate the product of all elements in a list."
   ]
  },
  {
   "cell_type": "code",
   "execution_count": 10,
   "id": "257c99e5-e0ce-4cde-83cd-e4daa9c147b8",
   "metadata": {},
   "outputs": [
    {
     "name": "stdout",
     "output_type": "stream",
     "text": [
      "6\n",
      "24\n"
     ]
    }
   ],
   "source": [
    "def multiplyList(myList):\n",
    "\tresult = 1\n",
    "\tfor x in myList:\n",
    "\t\tresult = result * x\n",
    "\treturn result\n",
    "\n",
    "\n",
    "# Driver code\n",
    "list1 = [1, 2, 3]\n",
    "list2 = [3, 2, 4]\n",
    "print(multiplyList(list1))\n",
    "print(multiplyList(list2))\n"
   ]
  },
  {
   "cell_type": "markdown",
   "id": "2eadb432-f15a-4c1d-835a-b831171a6932",
   "metadata": {},
   "source": [
    "# 37. Write a Python program to reverse the order of words in a sentence while preserving the word order."
   ]
  },
  {
   "cell_type": "code",
   "execution_count": 11,
   "id": "3e565473-1841-4413-8964-51e286455589",
   "metadata": {},
   "outputs": [
    {
     "name": "stdout",
     "output_type": "stream",
     "text": [
      "pwskills from datascience lear to want i\n"
     ]
    }
   ],
   "source": [
    "string = \"i want to lear datascience from pwskills\"\n",
    "s = string.split()[::-1]\n",
    "l = []\n",
    "for i in s:\n",
    "\tl.append(i)\n",
    "\n",
    "print(\" \".join(l))\n"
   ]
  },
  {
   "cell_type": "markdown",
   "id": "d245ae27-a039-4573-8226-c708d9035e33",
   "metadata": {},
   "source": [
    "# 38. Implement a function to find the missing number in a given list of consecutive numbers."
   ]
  },
  {
   "cell_type": "code",
   "execution_count": 68,
   "id": "6f57aa4a-2937-4633-a83e-a8ce8926eeba",
   "metadata": {},
   "outputs": [
    {
     "name": "stdout",
     "output_type": "stream",
     "text": [
      "-6\n"
     ]
    }
   ],
   "source": [
    "def findMissing(arr, n):\n",
    "\n",
    "\tl, h = 0, n - 1\n",
    "\tmid = 0\n",
    "\n",
    "\twhile (h > l):\n",
    "\n",
    "\t\tmid = l + (h - l) // 2\n",
    "\n",
    "\t\tif (arr[mid] - mid == arr[0]):\n",
    "\n",
    "\t\t\tif (arr[mid + 1] - arr[mid] > 1):\n",
    "\t\t\t\treturn arr[mid] + 1\n",
    "\t\t\telse:\n",
    "\n",
    "\t\t\t\tl = mid + 1\n",
    "\t\t\t\n",
    "\t\telse:\n",
    "\n",
    "\t\t\tif (arr[mid] - arr[mid - 1] > 1):\n",
    "\t\t\t\treturn arr[mid] - 1\n",
    "\t\t\telse:\n",
    "\n",
    "\t\t\t\th = mid - 1\n",
    "\treturn -1\n",
    "\n",
    "# Driver code\n",
    "arr = [-9, -8, -7, -5, -4, -3, -2, -1, 0 ]\n",
    "n = len(arr)\n",
    "\n",
    "print(findMissing(arr, n))"
   ]
  },
  {
   "cell_type": "markdown",
   "id": "9db2dd13-7488-4c09-84da-dde9b276c835",
   "metadata": {},
   "source": [
    "# 39. Write a program to find the sum of digits of a given number."
   ]
  },
  {
   "cell_type": "code",
   "execution_count": 69,
   "id": "64be12d1-2f13-48f3-aa91-b5948d7e557b",
   "metadata": {},
   "outputs": [
    {
     "name": "stdout",
     "output_type": "stream",
     "text": [
      "23\n"
     ]
    }
   ],
   "source": [
    "def Sum(n):\n",
    "\n",
    "\tsum = 0\n",
    "\twhile (n != 0):\n",
    "\n",
    "\t\tsum = sum + int(n % 10)\n",
    "\t\tn = int(n/10)\n",
    "\n",
    "\treturn sum\n",
    "\n",
    "\n",
    "# Driver code\n",
    "if __name__ == \"__main__\":\n",
    "\tn = 986\n",
    "\n",
    "\tprint(Sum(n))\n"
   ]
  },
  {
   "cell_type": "markdown",
   "id": "37c9bbb6-c7e2-4e0b-8810-18b74e3ed9fd",
   "metadata": {},
   "source": [
    "# 40. Implement a function to check if a given string is a valid palindrome considering case sensitivity.\n"
   ]
  },
  {
   "cell_type": "code",
   "execution_count": null,
   "id": "1c1beb7c-9de1-4037-821b-f724c477d2d6",
   "metadata": {},
   "outputs": [],
   "source": [
    "a_string = 'my name is radhika radhika is my name '\n",
    "\n",
    "def palindrome(a_string):\n",
    "    a_string = a_string.lower().replace(' ', '')\n",
    "    return a_string == a_string[::-1]\n",
    "\n",
    "print(palindrome(a_string))"
   ]
  },
  {
   "cell_type": "markdown",
   "id": "695fba1d-7586-41c6-94cf-14b417caab64",
   "metadata": {},
   "source": [
    "# 41. Write a Python program to find the smallest missing positive integer in a list."
   ]
  },
  {
   "cell_type": "code",
   "execution_count": null,
   "id": "f5b7d385-7f26-471a-9d13-6eebc80b88ea",
   "metadata": {},
   "outputs": [],
   "source": [
    "def findMissing(arr, N):\n",
    "\n",
    "\ttemp = [0] * (N+1)\n",
    "\n",
    "\tfor i in range(0, N):\n",
    "\t\ttemp[arr[i] - 1] = 1\n",
    "\n",
    "\tfor i in range(0, N+1):\n",
    "\t\tif(temp[i] == 0):\n",
    "\t\t\tans = i + 1\n",
    "\n",
    "\tprint(ans)\n",
    "\n",
    "# Driver code\n",
    "if __name__ == '__main__':\n",
    "\tarr = [1, 2, 3, 5]\n",
    "\tN = len(arr)\n",
    "    \n",
    "\tfindMissing(arr, N)"
   ]
  },
  {
   "cell_type": "markdown",
   "id": "2fa749e8-3c48-4ac7-8164-999f11036506",
   "metadata": {},
   "source": [
    "# 42. Implement a function to find the longest palindrome substring in a given string."
   ]
  },
  {
   "cell_type": "code",
   "execution_count": 64,
   "id": "3bf6c927-71e9-4796-af62-2cfb603586ec",
   "metadata": {},
   "outputs": [
    {
     "name": "stdout",
     "output_type": "stream",
     "text": [
      "Longest palindrome substring is: lsl\n",
      "Length is: 3\n"
     ]
    }
   ],
   "source": [
    "def printSubStr(str, low, high):\n",
    "\tfor i in range(low, high + 1):\n",
    "\t\tprint(str[i], end=\"\")\n",
    "\n",
    "def longestPalSubstr(str):\n",
    "\n",
    "\tn = len(str)\n",
    "\n",
    "\tmaxLength = 1\n",
    "\tstart = 0\n",
    "\n",
    "\tfor i in range(n):\n",
    "\t\tfor j in range(i, n):\n",
    "\t\t\tflag = 1\n",
    "\n",
    "\t\t\tfor k in range(0, ((j - i) // 2) + 1):\n",
    "\t\t\t\tif (str[i + k] != str[j - k]):\n",
    "\t\t\t\t\tflag = 0\n",
    "\n",
    "\t\t\tif (flag != 0 and (j - i + 1) > maxLength):\n",
    "\t\t\t\tstart = i\n",
    "\t\t\t\tmaxLength = j - i + 1\n",
    "\n",
    "\tprint(\"Longest palindrome substring is: \", end=\"\")\n",
    "\tprintSubStr(str, start, start + maxLength - 1)\n",
    "\n",
    "\treturn maxLength\n",
    "\n",
    "\n",
    "# Driver Code\n",
    "if __name__ == '__main__':\n",
    "\n",
    "\tstr = \"pwskillslearningplatform\"\n",
    "\tprint(\"\\nLength is:\", longestPalSubstr(str))"
   ]
  },
  {
   "cell_type": "markdown",
   "id": "97c59377-ce46-4a47-b1e5-a863b3493c81",
   "metadata": {},
   "source": [
    "# 43. Write a program to find the number of occurrences of a given element in a list."
   ]
  },
  {
   "cell_type": "code",
   "execution_count": 63,
   "id": "62cbfd51-c6d4-49d2-b5fc-bb854517c41c",
   "metadata": {},
   "outputs": [
    {
     "name": "stdout",
     "output_type": "stream",
     "text": [
      "8 has occurred 5 times\n"
     ]
    }
   ],
   "source": [
    "def count(lst, x):\n",
    "\tcount = 0\n",
    "\tfor ele in lst:\n",
    "\t\tif (ele == x):\n",
    "\t\t\tcount = count + 1\n",
    "\treturn count\n",
    "\n",
    "\n",
    "# Driver Code\n",
    "lst = [8, 6, 8, 10, 8, 20, 10, 8, 8]\n",
    "x = 8\n",
    "print('{} has occurred {} times'.format(x,\n",
    "\t\t\t\t\t\t\t\t\t\tcount(lst, x)))\n"
   ]
  },
  {
   "cell_type": "markdown",
   "id": "8f22837f-9b56-44e3-a446-d024894fef72",
   "metadata": {},
   "source": [
    "# 44. Implement a function to check if a given number is a perfect number."
   ]
  },
  {
   "cell_type": "code",
   "execution_count": 61,
   "id": "de0e831b-41f3-4ed7-b047-d9966390ad75",
   "metadata": {},
   "outputs": [
    {
     "name": "stdout",
     "output_type": "stream",
     "text": [
      "Below are all perfect numbers till 100\n",
      "6  is a perfect number\n",
      "28  is a perfect number\n"
     ]
    }
   ],
   "source": [
    "def Perfect_sqr( n ):\n",
    "\t\n",
    "\tsum = 1\n",
    "\t\n",
    "\ti = 2\n",
    "\twhile i * i <= n:\n",
    "\t\tif n % i == 0:\n",
    "\t\t\tsum = sum + i + n/i\n",
    "\t\ti += 1\n",
    "\n",
    "\treturn (True if sum == n and n!=1 else False)\n",
    "\n",
    "# Driver program\n",
    "print(\"Below are all perfect numbers till 100\")\n",
    "n = 2\n",
    "for n in range (100):\n",
    "\tif Perfect_sqr(n):\n",
    "\t\tprint(n , \" is a perfect number\")"
   ]
  },
  {
   "cell_type": "markdown",
   "id": "c3b56df6-c6d8-4a0d-bf30-31b2be4c42a5",
   "metadata": {},
   "source": [
    "# 45. Write a Python program to remove all duplicates from a string."
   ]
  },
  {
   "cell_type": "code",
   "execution_count": 58,
   "id": "6776957b-f45d-4d6b-948b-41084793c95c",
   "metadata": {},
   "outputs": [
    {
     "name": "stdout",
     "output_type": "stream",
     "text": [
      "wlkspi\n"
     ]
    }
   ],
   "source": [
    "def removeDuplicate(str, n):\n",
    "\ta = set()\n",
    "\n",
    "\tfor i in str:\n",
    "\t\ta.add(i)\n",
    "\n",
    "\tst = \"\"\n",
    "\tfor i in a:\n",
    "\t\tst = st+i\n",
    "\treturn st\n",
    "\n",
    "\n",
    "# Driver code\n",
    "str = \"pwskills\"\n",
    "n = len(str)\n",
    "print(removeDuplicate(list(str), n))"
   ]
  },
  {
   "cell_type": "markdown",
   "id": "9a202f29-eaf5-4284-8d31-b7fc555d436c",
   "metadata": {},
   "source": [
    "# 46. Implement a function to find the first missing positive"
   ]
  },
  {
   "cell_type": "code",
   "execution_count": 59,
   "id": "7885d6ef-1ba6-4324-af5a-55025e3a0892",
   "metadata": {},
   "outputs": [
    {
     "name": "stdout",
     "output_type": "stream",
     "text": [
      "1\n"
     ]
    }
   ],
   "source": [
    "def solution(A): \n",
    "\n",
    "\tm = max(A)\n",
    "\tif m < 1:\n",
    "\t\treturn 1\n",
    "\tif len(A) == 1:\n",
    "\n",
    "\t\treturn 2 if A[0] == 1 else 1\n",
    "\tl = [0] * m\n",
    "\tfor i in range(len(A)):\n",
    "\t\tif A[i] > 0:\n",
    "\t\t\tif l[A[i] - 1] != 1:\n",
    "\n",
    "\t\t\t\tl[A[i] - 1] = 1\n",
    "\tfor i in range(len(l)):\n",
    "\n",
    "\t\tif l[i] == 0:\n",
    "\t\t\treturn i + 1\n",
    "\t\t\n",
    "\treturn i + 2\n",
    "\n",
    "\n",
    "# Driver Code\n",
    "if __name__ == '__main__':\n",
    "\tarr = [10, 10, 12, -10, -20]\n",
    "\tprint(solution(arr))\n"
   ]
  },
  {
   "cell_type": "code",
   "execution_count": null,
   "id": "dc46340a-ce31-45cf-91d7-acc7b43e238e",
   "metadata": {},
   "outputs": [],
   "source": []
  },
  {
   "cell_type": "code",
   "execution_count": null,
   "id": "aea8fa2d-5f55-4273-b28d-4cf440f11322",
   "metadata": {},
   "outputs": [],
   "source": []
  }
 ],
 "metadata": {
  "kernelspec": {
   "display_name": "Python 3 (ipykernel)",
   "language": "python",
   "name": "python3"
  },
  "language_info": {
   "codemirror_mode": {
    "name": "ipython",
    "version": 3
   },
   "file_extension": ".py",
   "mimetype": "text/x-python",
   "name": "python",
   "nbconvert_exporter": "python",
   "pygments_lexer": "ipython3",
   "version": "3.10.8"
  }
 },
 "nbformat": 4,
 "nbformat_minor": 5
}
