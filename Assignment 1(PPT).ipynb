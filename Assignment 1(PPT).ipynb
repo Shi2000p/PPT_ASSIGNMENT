{
 "cells": [
  {
   "cell_type": "markdown",
   "id": "b494187d-95d4-4272-bb58-1f40cd39dd99",
   "metadata": {},
   "source": [
    "Q1. Given an array of integers nums and an integer target, return indices of the two numbers such that they add up to target.\n",
    "You may assume that each input would have exactly one solution, and you may not use the same element twice.\n",
    "You can return the answer in any order.\n",
    "\n"
   ]
  },
  {
   "cell_type": "code",
   "execution_count": 5,
   "id": "0374658d-7c1f-44d0-aa98-c13d6c352418",
   "metadata": {},
   "outputs": [],
   "source": [
    "def twoSum(nums, target):   \n",
    "    for i in range(len(nums)):      \n",
    "        complement = target - nums[i]\n",
    "        if complement in nums[i+1:]:           \n",
    "            return [i, nums.index(complement, i+1)]    \n",
    "    return []\n"
   ]
  },
  {
   "cell_type": "code",
   "execution_count": 6,
   "id": "76866771-11ad-4383-b790-faf9bd59c504",
   "metadata": {},
   "outputs": [
    {
     "name": "stdout",
     "output_type": "stream",
     "text": [
      "[0, 1]\n"
     ]
    }
   ],
   "source": [
    "nums = [2, 7, 11, 15]\n",
    "target = 9\n",
    "result = twoSum(nums, target)\n",
    "print(result)\n"
   ]
  },
  {
   "cell_type": "markdown",
   "id": "46715d4a-3ee8-43dd-b0ce-7783597fccae",
   "metadata": {},
   "source": [
    "Q2. Given an integer array nums and an integer val, remove all occurrences of val in nums in-place. The order of the elements may be changed. Then return the number of elements in nums which are not equal to val.\n",
    "Consider the number of elements in nums which are not equal to val be k, to get accepted, you need to do the following things:\n",
    "- Change the array nums such that the first k elements of nums contain the elements which are not equal to val. The remaining elements of nums are not important as well as the size of nums.\n",
    "- Return k."
   ]
  },
  {
   "cell_type": "code",
   "execution_count": 12,
   "id": "e740608d-f70d-4471-9439-af9086f326bd",
   "metadata": {},
   "outputs": [],
   "source": [
    "def removeElement(nums, val):\n",
    "    k = 0  \n",
    "    for i in range(len(nums)):\n",
    "        if nums[i] != val:\n",
    "            nums[k] = nums[i]\n",
    "            k += 1\n",
    "\n",
    "    return k\n",
    "\n",
    "\n"
   ]
  },
  {
   "cell_type": "code",
   "execution_count": 13,
   "id": "57dd0293-8032-435c-8898-8213fea4c268",
   "metadata": {},
   "outputs": [
    {
     "name": "stdout",
     "output_type": "stream",
     "text": [
      "Output: 2\n",
      "Modified nums: [2, 2, '_', '_']\n"
     ]
    }
   ],
   "source": [
    "nums = [3, 2, 2, 3]\n",
    "val = 3\n",
    "k = removeElement(nums, val)\n",
    "print(\"Output:\", k)\n",
    "print(\"Modified nums:\", nums[:k] + ['_'] * (len(nums) - k))\n"
   ]
  },
  {
   "cell_type": "markdown",
   "id": "ac59213e-2a4f-4145-95da-5bf0b2ff75e2",
   "metadata": {},
   "source": [
    "Q3. Given a sorted array of distinct integers and a target value, return the index if the target is found. If not, return the index where it would be if it were inserted in order.\n",
    "\n",
    "You must write an algorithm with O(log n) runtime complexity.\n"
   ]
  },
  {
   "cell_type": "code",
   "execution_count": 14,
   "id": "35443709-c2f8-419e-a09f-afde33dc2187",
   "metadata": {},
   "outputs": [],
   "source": [
    "def searchInsert(nums, target):\n",
    "    left = 0\n",
    "    right = len(nums) - 1\n",
    "\n",
    "    while left <= right:\n",
    "        mid = left + (right - left) // 2\n",
    "\n",
    "        if nums[mid] == target:\n",
    "            return mid\n",
    "        elif nums[mid] < target:\n",
    "            left = mid + 1\n",
    "        else:\n",
    "            right = mid - 1\n",
    "    return left\n"
   ]
  },
  {
   "cell_type": "code",
   "execution_count": 15,
   "id": "ab7be33d-e1a5-4aa2-8280-b3d4487f56f6",
   "metadata": {},
   "outputs": [
    {
     "name": "stdout",
     "output_type": "stream",
     "text": [
      "Output: 2\n"
     ]
    }
   ],
   "source": [
    "nums = [1, 3, 5, 6]\n",
    "target = 5\n",
    "index = searchInsert(nums, target)\n",
    "print(\"Output:\", index)\n"
   ]
  },
  {
   "cell_type": "markdown",
   "id": "15b2a08b-d2e6-4645-a4fa-1dac6e6d8731",
   "metadata": {},
   "source": [
    "Q4. You are given a large integer represented as an integer array digits, where each digits[i] is the ith digit of the integer. The digits are ordered from most significant to least significant in left-to-right order. The large integer does not contain any leading 0's.\n",
    "ncrement the large integer by one and return th\n"
   ]
  },
  {
   "cell_type": "code",
   "execution_count": 17,
   "id": "a3ab34dd-b6b3-4ac7-9757-58cb4a93533c",
   "metadata": {},
   "outputs": [],
   "source": [
    "def plusOne(digits):\n",
    "    n = len(digits)   \n",
    "   \n",
    "    for i in range(n-1, -1, -1):\n",
    "        if digits[i] < 9:           \n",
    "            digits[i] += 1\n",
    "            return digits\n",
    "        else:           \n",
    "            digits[i] = 0  \n",
    "   \n",
    "    new_digits = [0] * (n+1)\n",
    "    new_digits[0] = 1    \n",
    "    return new_digits\n"
   ]
  },
  {
   "cell_type": "code",
   "execution_count": 18,
   "id": "1f92a845-9f54-42f4-80be-78f30e97aafa",
   "metadata": {},
   "outputs": [
    {
     "name": "stdout",
     "output_type": "stream",
     "text": [
      "Output: [1, 2, 4]\n"
     ]
    }
   ],
   "source": [
    "digits = [1, 2, 3]\n",
    "result = plusOne(digits)\n",
    "print(\"Output:\", result)\n"
   ]
  },
  {
   "cell_type": "markdown",
   "id": "c88e5928-e6ca-4b66-ae92-b58adf936144",
   "metadata": {},
   "source": [
    "Q-5 You are given two integer arrays nums1 and nums2, sorted in non-decreasing order, and two integers m and n, representing the number of elements in nums1 and nums2 respectively.\n",
    "Merge nums1 and nums2 into a single array sorted in non-decreasing order.\n",
    "The final sorted array should not be returned by the function, but instead be stored inside the array nums1. To accommodate this, nums1 has a length of m + n, where the first m elements denote the elements that should be merged, and the last n elements are set to 0 and should be ignored. nums2 has a length of n.\n",
    "\n"
   ]
  },
  {
   "cell_type": "code",
   "execution_count": 7,
   "id": "78c54c15-5318-4466-8f50-bcaab5dee34c",
   "metadata": {},
   "outputs": [
    {
     "name": "stdout",
     "output_type": "stream",
     "text": [
      "Merged Array: [1, 2, 2, 3, 5, 6]\n"
     ]
    }
   ],
   "source": [
    "def merge(nums1, m, nums2, n):   \n",
    "    p1 = m - 1\n",
    "    p2 = n - 1\n",
    "    p = m + n - 1    \n",
    "    while p1 >= 0 and p2 >= 0:\n",
    "        if nums1[p1] >= nums2[p2]:\n",
    "            nums1[p] = nums1[p1]\n",
    "            p1 -= 1\n",
    "        else:\n",
    "            nums1[p] = nums2[p2]\n",
    "            p2 -= 1\n",
    "        p -= 1  \n",
    "    nums1[:p2 + 1] = nums2[:p2 + 1]\n",
    "nums1 = [1, 2, 3, 0, 0, 0]\n",
    "m = 3\n",
    "nums2 = [2, 5, 6]\n",
    "n = 3\n",
    "merge(nums1, m, nums2, n)\n",
    "print(\"Merged Array:\", nums1)\n"
   ]
  },
  {
   "cell_type": "markdown",
   "id": "8cf1d274-9df3-4541-8817-9d677fb99395",
   "metadata": {},
   "source": [
    "Q6. Given an integer array nums, return true if any value appears at least twice in the array, and return false if every element is distinct.\n",
    "\n"
   ]
  },
  {
   "cell_type": "code",
   "execution_count": 11,
   "id": "9c11c0d7-6587-4c54-8668-8d60d44e6bdd",
   "metadata": {},
   "outputs": [
    {
     "name": "stdout",
     "output_type": "stream",
     "text": [
      "Output: True\n"
     ]
    }
   ],
   "source": [
    "def containsDuplicate(nums):\n",
    "    num_set = set()\n",
    "    for num in nums:\n",
    "        if num in num_set:\n",
    "            return True\n",
    "        num_set.add(num)\n",
    "    return False\n",
    "nums = [1, 2, 3, 1]\n",
    "contains_dup = containsDuplicate(nums)\n",
    "print(\"Output:\", contains_dup)\n"
   ]
  },
  {
   "cell_type": "markdown",
   "id": "fa70489b-6a35-41c1-9911-9fbac377d2c6",
   "metadata": {},
   "source": [
    "Q7.Given an integer array nums, move all 0's to the end of it while maintaining the relative order of the nonzero elements.\n",
    "Note that you must do this in-place without making a copy of the array.\n",
    "\n"
   ]
  },
  {
   "cell_type": "code",
   "execution_count": 10,
   "id": "44cb3d2d-b9e7-40df-be9a-fcca3da5a857",
   "metadata": {},
   "outputs": [],
   "source": [
    "def moveZeroes(nums):    \n",
    "    next_nonzero = 0\n",
    "    nums = [0,1,0,3,12]   \n",
    "    for i in range(len(nums)):\n",
    "        if nums[i] != 0:           \n",
    "            nums[next_nonzero], nums[i] = nums[i], nums[next_nonzero]\n",
    "            next_nonzero += 1\n"
   ]
  },
  {
   "cell_type": "markdown",
   "id": "195fccff-ad63-40b1-b5c4-053583cb1b76",
   "metadata": {},
   "source": [
    "Q8. You have a set of integers s, which originally contains all the numbers from 1 to n. Unfortunately, due to some error, one of the numbers in s got duplicated to another number in the set, which results in repetition of one number and loss of another number.\n",
    "\n",
    "You are given an integer array nums representing the data status of this set after the error.\n",
    "\n",
    "Find the number that occurs twice and the number that is missing and return them in the form of an array.\n",
    "\n"
   ]
  },
  {
   "cell_type": "code",
   "execution_count": 7,
   "id": "1391c484-e5a5-4be8-9a73-a422e18ddc31",
   "metadata": {},
   "outputs": [],
   "source": [
    "def findErrorNums(nums):\n",
    "    n = len(nums)\n",
    "    total_sum = (n * (n + 1)) // 2\n",
    "    nums_sum = sum(nums)   \n",
    "    diff = total_sum - nums_sum\n",
    "    \n",
    "    duplicate = 0\n",
    "    num_set = set()\n",
    "    for num in nums:\n",
    "        if num in num_set:\n",
    "            duplicate = num\n",
    "            break\n",
    "        num_set.add(num)    \n",
    "    missing = duplicate + diff\n",
    "\n",
    "    return [duplicate, missing]\n"
   ]
  },
  {
   "cell_type": "code",
   "execution_count": 8,
   "id": "a3bd1abe-3492-4c0a-8284-f18f5e3f3a83",
   "metadata": {},
   "outputs": [],
   "source": [
    "nums = [1,2,2,4]"
   ]
  },
  {
   "cell_type": "code",
   "execution_count": 9,
   "id": "a924baaa-0bd4-4c5b-8891-bd6c539ccc96",
   "metadata": {},
   "outputs": [
    {
     "data": {
      "text/plain": [
       "[2, 3]"
      ]
     },
     "execution_count": 9,
     "metadata": {},
     "output_type": "execute_result"
    }
   ],
   "source": [
    "findErrorNums(nums)"
   ]
  },
  {
   "cell_type": "code",
   "execution_count": null,
   "id": "d5dec141-111b-4335-aa51-e1ff6c41156d",
   "metadata": {},
   "outputs": [],
   "source": []
  }
 ],
 "metadata": {
  "kernelspec": {
   "display_name": "Python 3 (ipykernel)",
   "language": "python",
   "name": "python3"
  },
  "language_info": {
   "codemirror_mode": {
    "name": "ipython",
    "version": 3
   },
   "file_extension": ".py",
   "mimetype": "text/x-python",
   "name": "python",
   "nbconvert_exporter": "python",
   "pygments_lexer": "ipython3",
   "version": "3.10.8"
  }
 },
 "nbformat": 4,
 "nbformat_minor": 5
}
